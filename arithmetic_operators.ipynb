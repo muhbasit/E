{
  "nbformat": 4,
  "nbformat_minor": 0,
  "metadata": {
    "colab": {
      "provenance": [],
      "authorship_tag": "ABX9TyM0C1vWXyRFotWjyG3ly7rt",
      "include_colab_link": true
    },
    "kernelspec": {
      "name": "python3",
      "display_name": "Python 3"
    },
    "language_info": {
      "name": "python"
    }
  },
  "cells": [
    {
      "cell_type": "markdown",
      "metadata": {
        "id": "view-in-github",
        "colab_type": "text"
      },
      "source": [
        "<a href=\"https://colab.research.google.com/github/muhbasit/E/blob/main/arithmetic_operators.ipynb\" target=\"_parent\"><img src=\"https://colab.research.google.com/assets/colab-badge.svg\" alt=\"Open In Colab\"/></a>"
      ]
    },
    {
      "cell_type": "markdown",
      "source": [
        "# Arithmetic Operators\n",
        "\n",
        "* Addition +\n",
        "* Multiplication x\n",
        "* Subract -\n",
        "* Division /\n",
        "* Modulus %\n",
        "* Exponential **\n",
        "* Floor Division //"
      ],
      "metadata": {
        "id": "Uh-MZ4zDnQPo"
      }
    },
    {
      "cell_type": "code",
      "execution_count": 1,
      "metadata": {
        "id": "fcZs-gk5nPSR"
      },
      "outputs": [],
      "source": [
        "# get two numbers\n",
        "a = 23\n",
        "b = 2"
      ]
    },
    {
      "cell_type": "code",
      "source": [
        "# Addition Operator\n",
        "addition = a + b\n",
        "print(addition)"
      ],
      "metadata": {
        "colab": {
          "base_uri": "https://localhost:8080/"
        },
        "id": "Yyt_651Kob46",
        "outputId": "0cc47932-5492-4a9f-883e-fea251d7888e"
      },
      "execution_count": 3,
      "outputs": [
        {
          "output_type": "stream",
          "name": "stdout",
          "text": [
            "25\n"
          ]
        }
      ]
    },
    {
      "cell_type": "code",
      "source": [
        "# Subtraction Operator\n",
        "subtraction = a - b\n",
        "print(subtraction)"
      ],
      "metadata": {
        "colab": {
          "base_uri": "https://localhost:8080/"
        },
        "id": "6F6CTjPXopOp",
        "outputId": "e06b8899-5c4d-4309-fb20-7d3972ad2b2e"
      },
      "execution_count": 5,
      "outputs": [
        {
          "output_type": "stream",
          "name": "stdout",
          "text": [
            "21\n"
          ]
        }
      ]
    },
    {
      "cell_type": "code",
      "source": [
        "# Multiplication Operator\n",
        "multiply = a * b\n",
        "print(multiply)"
      ],
      "metadata": {
        "colab": {
          "base_uri": "https://localhost:8080/"
        },
        "id": "cb8g6aefoyiw",
        "outputId": "b33861fe-80dd-4e87-e3d1-fa7c26dfbe94"
      },
      "execution_count": 6,
      "outputs": [
        {
          "output_type": "stream",
          "name": "stdout",
          "text": [
            "46\n"
          ]
        }
      ]
    },
    {
      "cell_type": "code",
      "source": [
        "# Division Operator\n",
        "divide = a / b\n",
        "print(divide)"
      ],
      "metadata": {
        "colab": {
          "base_uri": "https://localhost:8080/"
        },
        "id": "iUD1ZOBRo6aR",
        "outputId": "94cc1659-a85a-4214-bbca-bbfeb8fe4309"
      },
      "execution_count": 8,
      "outputs": [
        {
          "output_type": "stream",
          "name": "stdout",
          "text": [
            "11.5\n"
          ]
        }
      ]
    },
    {
      "cell_type": "code",
      "source": [
        "# Modulus Operator\n",
        "modulus = a % b\n",
        "print(modulus)"
      ],
      "metadata": {
        "colab": {
          "base_uri": "https://localhost:8080/"
        },
        "id": "XI2slrEmpChn",
        "outputId": "fa0a2bbd-bf0d-493e-e3c8-6e0563f59e2e"
      },
      "execution_count": 9,
      "outputs": [
        {
          "output_type": "stream",
          "name": "stdout",
          "text": [
            "1\n"
          ]
        }
      ]
    },
    {
      "cell_type": "code",
      "source": [
        "# Exponential Operator\n",
        "exponential = a ** b\n",
        "print(exponential)"
      ],
      "metadata": {
        "colab": {
          "base_uri": "https://localhost:8080/"
        },
        "id": "O_eqbvbHpJz6",
        "outputId": "d5cba4e1-981b-4896-e889-c030913c8cda"
      },
      "execution_count": 10,
      "outputs": [
        {
          "output_type": "stream",
          "name": "stdout",
          "text": [
            "529\n"
          ]
        }
      ]
    },
    {
      "cell_type": "code",
      "source": [
        "# Floor Division Operator\n",
        "fDivide = a // b\n",
        "print(fDivide)"
      ],
      "metadata": {
        "colab": {
          "base_uri": "https://localhost:8080/"
        },
        "id": "uKxKJiLIpRpe",
        "outputId": "ff065535-65a7-46f5-d246-8588b7ae38d2"
      },
      "execution_count": 12,
      "outputs": [
        {
          "output_type": "stream",
          "name": "stdout",
          "text": [
            "11\n"
          ]
        }
      ]
    }
  ]
}