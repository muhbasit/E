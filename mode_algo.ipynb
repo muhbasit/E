{
  "nbformat": 4,
  "nbformat_minor": 0,
  "metadata": {
    "colab": {
      "provenance": [],
      "authorship_tag": "ABX9TyP1N2eeq3uDqFToXrC2xh9e",
      "include_colab_link": true
    },
    "kernelspec": {
      "name": "python3",
      "display_name": "Python 3"
    },
    "language_info": {
      "name": "python"
    }
  },
  "cells": [
    {
      "cell_type": "markdown",
      "metadata": {
        "id": "view-in-github",
        "colab_type": "text"
      },
      "source": [
        "<a href=\"https://colab.research.google.com/github/muhbasit/E/blob/main/mode_algo.ipynb\" target=\"_parent\"><img src=\"https://colab.research.google.com/assets/colab-badge.svg\" alt=\"Open In Colab\"/></a>"
      ]
    },
    {
      "cell_type": "markdown",
      "source": [
        "# Mode\n",
        "The mode is the value that appears most often in a set of data values. ${ }^{}$ If $\\boldsymbol{X}$ is a discrete random variable, the mode is the value $x$ at which the probability mass function takes its maximum value (i.e, $x=\\operatorname{argmax}_{X_i} \\mathrm{P}\\left(\\boldsymbol{X}=x_i\\right)$ ). In other words, it is the value that is most likely to be sampled.\n",
        "Like the statistical mean and median, the mode is a way of expressing, in a (usually) single number, important information about a random variable or a population. The numerical value of the mode is the same as that of the mean and median in a normal distribution, and it may be very different in highly skewed distributions.\n",
        "The mode is not necessarily unique to a given discrete distribution, since the probability mass function may take the same maximum value at several points $x_1, x_2$, etc. The most extreme case occurs in uniform distributions, where all values occur equally frequently."
      ],
      "metadata": {
        "id": "5Q8hputzzSn9"
      }
    },
    {
      "cell_type": "code",
      "execution_count": 1,
      "metadata": {
        "id": "5uq-SXW-qP-u"
      },
      "outputs": [],
      "source": [
        "data = [5,4,4,3,7,3,2,7,3,3]"
      ]
    },
    {
      "cell_type": "code",
      "source": [
        "#sorting data in ascending order\n",
        "temp = 0\n",
        "for i in range(len(data)-1):\n",
        "  for j in range(len(data)-i-1):\n",
        "    if data[j] >= data[j+1]:\n",
        "      temp = data[j]\n",
        "      data[j] = data[j+1]\n",
        "      data[j+1] = temp\n",
        "print(data)"
      ],
      "metadata": {
        "colab": {
          "base_uri": "https://localhost:8080/"
        },
        "id": "vjjYMJmVqYzK",
        "outputId": "360baee9-037e-4be8-95bd-c91e526e4031"
      },
      "execution_count": 7,
      "outputs": [
        {
          "output_type": "stream",
          "name": "stdout",
          "text": [
            "[2, 3, 3, 3, 3, 4, 4, 5, 7, 7]\n"
          ]
        }
      ]
    },
    {
      "cell_type": "code",
      "source": [
        "# Count Number of elements\n",
        "count = 0\n",
        "for i in data:\n",
        "  count += 1\n",
        "print(count)"
      ],
      "metadata": {
        "colab": {
          "base_uri": "https://localhost:8080/"
        },
        "id": "kiskXgqiuaP8",
        "outputId": "512ee87c-ea45-47f9-e002-3925628b7ace"
      },
      "execution_count": 9,
      "outputs": [
        {
          "output_type": "stream",
          "name": "stdout",
          "text": [
            "10\n"
          ]
        }
      ]
    },
    {
      "cell_type": "code",
      "source": [
        "# calculate mode\n",
        "num = []\n",
        "mode =[]\n",
        "for i in data:\n",
        "  if i not in num:\n",
        "    num.append(i)\n",
        "  else:\n",
        "    mode.append(i)\n",
        "print(mode)"
      ],
      "metadata": {
        "colab": {
          "base_uri": "https://localhost:8080/"
        },
        "id": "K2JydXEEuqTF",
        "outputId": "ceca091e-214b-4307-c016-3b638966ae82"
      },
      "execution_count": 20,
      "outputs": [
        {
          "output_type": "stream",
          "name": "stdout",
          "text": [
            "[3, 3, 3, 4, 7]\n"
          ]
        }
      ]
    }
  ]
}