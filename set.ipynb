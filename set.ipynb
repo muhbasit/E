{
  "nbformat": 4,
  "nbformat_minor": 0,
  "metadata": {
    "colab": {
      "provenance": [],
      "authorship_tag": "ABX9TyOcQp1Yt5U7hDSFGJi86fhn",
      "include_colab_link": true
    },
    "kernelspec": {
      "name": "python3",
      "display_name": "Python 3"
    },
    "language_info": {
      "name": "python"
    }
  },
  "cells": [
    {
      "cell_type": "markdown",
      "metadata": {
        "id": "view-in-github",
        "colab_type": "text"
      },
      "source": [
        "<a href=\"https://colab.research.google.com/github/muhbasit/E/blob/main/set.ipynb\" target=\"_parent\"><img src=\"https://colab.research.google.com/assets/colab-badge.svg\" alt=\"Open In Colab\"/></a>"
      ]
    },
    {
      "cell_type": "markdown",
      "source": [
        "\n",
        "# Set\n",
        "\n",
        "## Definition:\n",
        "A set is an unordered collection of unique elements. In other words, a set does not allow duplicate values.\n",
        "\n",
        "## Creating Sets:\n",
        "\n",
        "You can create a set by using curly braces {} or by using the set() constructor."
      ],
      "metadata": {
        "id": "q4tVjdTFMUky"
      }
    },
    {
      "cell_type": "code",
      "execution_count": 1,
      "metadata": {
        "id": "Z1PnVVuqMH5O"
      },
      "outputs": [],
      "source": [
        "# Creating a set using curly braces\n",
        "fruits = {\"apple\", \"banana\", \"cherry\"}\n",
        "\n",
        "# Creating a set using the set() constructor\n",
        "colors = set([\"red\", \"green\", \"blue\"])"
      ]
    },
    {
      "cell_type": "code",
      "source": [
        "if \"apple\" in fruits:\n",
        "    print(\"Apple is in the set\")"
      ],
      "metadata": {
        "colab": {
          "base_uri": "https://localhost:8080/"
        },
        "id": "ltYTEOkiMkju",
        "outputId": "cae93a52-899d-448a-a21d-fe4740f36f2d"
      },
      "execution_count": 2,
      "outputs": [
        {
          "output_type": "stream",
          "name": "stdout",
          "text": [
            "Apple is in the set\n"
          ]
        }
      ]
    },
    {
      "cell_type": "code",
      "source": [
        "for fruit in fruits:\n",
        "    print(fruit)"
      ],
      "metadata": {
        "colab": {
          "base_uri": "https://localhost:8080/"
        },
        "id": "ARNrmkgtMsgM",
        "outputId": "922f50f9-5474-43b3-9e08-b02cc8204b6b"
      },
      "execution_count": 3,
      "outputs": [
        {
          "output_type": "stream",
          "name": "stdout",
          "text": [
            "apple\n",
            "banana\n",
            "cherry\n"
          ]
        }
      ]
    },
    {
      "cell_type": "code",
      "source": [
        "squared_numbers = {x**2 for x in range(1, 6)}\n",
        "print(squared_numbers)"
      ],
      "metadata": {
        "colab": {
          "base_uri": "https://localhost:8080/"
        },
        "id": "L0VgQ4DSMupQ",
        "outputId": "63efd10a-6716-4966-8cc4-ebc5b8e419c8"
      },
      "execution_count": 6,
      "outputs": [
        {
          "output_type": "stream",
          "name": "stdout",
          "text": [
            "{1, 4, 9, 16, 25}\n"
          ]
        }
      ]
    },
    {
      "cell_type": "code",
      "source": [
        "frozen_colors = frozenset([\"red\", \"green\", \"blue\"])\n",
        "print(frozen_colors)"
      ],
      "metadata": {
        "colab": {
          "base_uri": "https://localhost:8080/"
        },
        "id": "MeSFdQ86MwPJ",
        "outputId": "ad9d7935-35dc-406e-b662-19417706c606"
      },
      "execution_count": 7,
      "outputs": [
        {
          "output_type": "stream",
          "name": "stdout",
          "text": [
            "frozenset({'blue', 'green', 'red'})\n"
          ]
        }
      ]
    },
    {
      "cell_type": "code",
      "source": [
        "fruits_list = list(fruits)\n",
        "print(fruits_list[0])  # Access the first element"
      ],
      "metadata": {
        "colab": {
          "base_uri": "https://localhost:8080/"
        },
        "id": "wZRXitXCNGwI",
        "outputId": "ca58402c-f79c-43ce-d9e1-482968e302f5"
      },
      "execution_count": 8,
      "outputs": [
        {
          "output_type": "stream",
          "name": "stdout",
          "text": [
            "apple\n"
          ]
        }
      ]
    },
    {
      "cell_type": "code",
      "source": [
        "for index, fruit in enumerate(fruits):\n",
        "    print(f\"Index {index}: {fruit}\")"
      ],
      "metadata": {
        "colab": {
          "base_uri": "https://localhost:8080/"
        },
        "id": "qCguKT8QNIM5",
        "outputId": "90c4bff8-24ce-4dfb-b8ae-94a80d3537e2"
      },
      "execution_count": 9,
      "outputs": [
        {
          "output_type": "stream",
          "name": "stdout",
          "text": [
            "Index 0: apple\n",
            "Index 1: banana\n",
            "Index 2: cherry\n"
          ]
        }
      ]
    },
    {
      "cell_type": "code",
      "source": [
        "def main():\n",
        "    # Lists\n",
        "    fruits_list = [\"apple\", \"banana\", \"cherry\", \"date\"]\n",
        "    print(\"List:\")\n",
        "    print(fruits_list[0])  # Indexing\n",
        "    for index, fruit in enumerate(fruits_list):  # Iteration\n",
        "        print(f\"Index {index}: {fruit}\")\n",
        "\n",
        "    # Tuples\n",
        "    fruits_tuple = (\"apple\", \"banana\", \"cherry\", \"date\")\n",
        "    print(\"\\nTuple:\")\n",
        "    print(fruits_tuple[1])  # Indexing\n",
        "    for index, fruit in enumerate(fruits_tuple):  # Iteration\n",
        "        print(f\"Index {index}: {fruit}\")\n",
        "\n",
        "    # Dictionaries\n",
        "    fruits_dict = {\n",
        "        \"a\": \"apple\",\n",
        "        \"b\": \"banana\",\n",
        "        \"c\": \"cherry\",\n",
        "        \"d\": \"date\"\n",
        "    }\n",
        "    print(\"\\nDictionary:\")\n",
        "    print(fruits_dict[\"c\"])  # Indexing\n",
        "    for key, value in fruits_dict.items():  # Iteration\n",
        "        print(f\"Key {key}: {value}\")\n",
        "\n",
        "    # Sets\n",
        "    fruits_set = {\"apple\", \"banana\", \"cherry\", \"date\"}\n",
        "    print(\"\\nSet:\")\n",
        "    # Sets do not support indexing, so we'll demonstrate iteration\n",
        "    for fruit in fruits_set:\n",
        "        print(fruit)\n",
        "\n",
        "if __name__ == \"__main__\":\n",
        "    main()"
      ],
      "metadata": {
        "colab": {
          "base_uri": "https://localhost:8080/"
        },
        "id": "zCwKNMzANXOi",
        "outputId": "7111f2da-cbef-4651-f87e-cf6b6d76bfb0"
      },
      "execution_count": 10,
      "outputs": [
        {
          "output_type": "stream",
          "name": "stdout",
          "text": [
            "List:\n",
            "apple\n",
            "Index 0: apple\n",
            "Index 1: banana\n",
            "Index 2: cherry\n",
            "Index 3: date\n",
            "\n",
            "Tuple:\n",
            "banana\n",
            "Index 0: apple\n",
            "Index 1: banana\n",
            "Index 2: cherry\n",
            "Index 3: date\n",
            "\n",
            "Dictionary:\n",
            "cherry\n",
            "Key a: apple\n",
            "Key b: banana\n",
            "Key c: cherry\n",
            "Key d: date\n",
            "\n",
            "Set:\n",
            "banana\n",
            "apple\n",
            "date\n",
            "cherry\n"
          ]
        }
      ]
    }
  ]
}