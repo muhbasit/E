{
  "nbformat": 4,
  "nbformat_minor": 0,
  "metadata": {
    "colab": {
      "provenance": [],
      "authorship_tag": "ABX9TyMqVGYSyI0wAWug2TooJskH",
      "include_colab_link": true
    },
    "kernelspec": {
      "name": "python3",
      "display_name": "Python 3"
    },
    "language_info": {
      "name": "python"
    }
  },
  "cells": [
    {
      "cell_type": "markdown",
      "metadata": {
        "id": "view-in-github",
        "colab_type": "text"
      },
      "source": [
        "<a href=\"https://colab.research.google.com/github/muhbasit/E/blob/main/Function.ipynb\" target=\"_parent\"><img src=\"https://colab.research.google.com/assets/colab-badge.svg\" alt=\"Open In Colab\"/></a>"
      ]
    },
    {
      "cell_type": "markdown",
      "source": [
        "# Function\n",
        "\n",
        "A function is a block of code which only runs when it is called.\n",
        "\n",
        "You can pass data, known as parameters, into a function.\n",
        "\n",
        "A function can return data as a result."
      ],
      "metadata": {
        "id": "fLVCgLnNjjpq"
      }
    },
    {
      "cell_type": "code",
      "execution_count": 1,
      "metadata": {
        "colab": {
          "base_uri": "https://localhost:8080/"
        },
        "id": "8CHWZJ7UeZk2",
        "outputId": "7349ea62-c60d-477e-d6a0-b71cad62347f"
      },
      "outputs": [
        {
          "output_type": "stream",
          "name": "stdout",
          "text": [
            "Hello, Alice!\n"
          ]
        }
      ],
      "source": [
        "def greet(name):\n",
        "    return f\"Hello, {name}!\"\n",
        "\n",
        "result = greet(\"Alice\")\n",
        "print(result)  # Output: Hello, Alice!"
      ]
    },
    {
      "cell_type": "code",
      "source": [
        "def greet(name):\n",
        "    return f\"Hello, {name}! Welcome to our website.\"\n",
        "\n",
        "user_name = input(\"Enter your name: \")\n",
        "greeting = greet(user_name)\n",
        "print(greeting)"
      ],
      "metadata": {
        "colab": {
          "base_uri": "https://localhost:8080/"
        },
        "id": "4O-4eK2lkEm4",
        "outputId": "e13c6df2-797d-41d1-8ffd-bb3b32c5d4ff"
      },
      "execution_count": 2,
      "outputs": [
        {
          "output_type": "stream",
          "name": "stdout",
          "text": [
            "Enter your name: Bilal\n",
            "Hello, Bilal! Welcome to our website.\n"
          ]
        }
      ]
    },
    {
      "cell_type": "code",
      "source": [
        "def name(fname, lname):\n",
        "  print(fname + \" \" + lname)\n",
        "\n",
        "name(\"Bilal\", \"Khan\")"
      ],
      "metadata": {
        "colab": {
          "base_uri": "https://localhost:8080/"
        },
        "id": "ZbN22-_HkQKq",
        "outputId": "70a32ecc-1537-4dc5-b049-4d6be2c49211"
      },
      "execution_count": 3,
      "outputs": [
        {
          "output_type": "stream",
          "name": "stdout",
          "text": [
            "Bilal Khan\n"
          ]
        }
      ]
    },
    {
      "cell_type": "code",
      "source": [
        "def name(fname, lname):\n",
        "  print(fname + \" \" + lname)\n",
        "\n",
        "fname = input(\"Enter your first name: \")\n",
        "lname = input(\"Enter your last name: \")\n",
        "name(fname, lname)"
      ],
      "metadata": {
        "colab": {
          "base_uri": "https://localhost:8080/"
        },
        "id": "ZiUkq7PakaPa",
        "outputId": "00908a32-7cad-414d-a3cf-a7e6e9bbbbeb"
      },
      "execution_count": 4,
      "outputs": [
        {
          "output_type": "stream",
          "name": "stdout",
          "text": [
            "Enter your first name: Bilal\n",
            "Enter your last name: Khan\n",
            "Bilal Khan\n"
          ]
        }
      ]
    },
    {
      "cell_type": "code",
      "source": [
        "def factorial(n):\n",
        "    \"\"\"Calculate the factorial of a non-negative integer.\"\"\"\n",
        "    if n < 0:\n",
        "        raise ValueError(\"Factorial is not defined for negative numbers\")\n",
        "    if n == 0:\n",
        "        return 1\n",
        "    result = 1\n",
        "    for i in range(1, n + 1):\n",
        "        result *= i\n",
        "    return result\n",
        "\n",
        "# Test the factorial function\n",
        "try:\n",
        "    num = int(input(\"Enter a non-negative integer: \"))\n",
        "    print(f\"The factorial of {num} is {factorial(num)}\")\n",
        "except ValueError as e:\n",
        "    print(e)"
      ],
      "metadata": {
        "colab": {
          "base_uri": "https://localhost:8080/"
        },
        "id": "3a3u9ERNlEVU",
        "outputId": "60582fdf-3e86-4b8f-bdb2-3301804c3a95"
      },
      "execution_count": 5,
      "outputs": [
        {
          "output_type": "stream",
          "name": "stdout",
          "text": [
            "Enter a non-negative integer: 23\n",
            "The factorial of 23 is 25852016738884976640000\n"
          ]
        }
      ]
    }
  ]
}