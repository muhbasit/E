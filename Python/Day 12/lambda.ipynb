{
  "nbformat": 4,
  "nbformat_minor": 0,
  "metadata": {
    "colab": {
      "provenance": [],
      "authorship_tag": "ABX9TyPVXRdVP7L/c9Hw9vptjeJ+",
      "include_colab_link": true
    },
    "kernelspec": {
      "name": "python3",
      "display_name": "Python 3"
    },
    "language_info": {
      "name": "python"
    }
  },
  "cells": [
    {
      "cell_type": "markdown",
      "metadata": {
        "id": "view-in-github",
        "colab_type": "text"
      },
      "source": [
        "<a href=\"https://colab.research.google.com/github/muhbasit/E/blob/main/lambda.ipynb\" target=\"_parent\"><img src=\"https://colab.research.google.com/assets/colab-badge.svg\" alt=\"Open In Colab\"/></a>"
      ]
    },
    {
      "cell_type": "markdown",
      "source": [
        "# Lambda Function\n",
        "A lambda function is a small anonymous function.\n",
        "\n",
        "A lambda function can take any number of arguments, but can only have one expression.\n",
        "\n",
        "## Syntax\n",
        "lambda arguments : expression\n",
        "The expression is executed and the result is returned:"
      ],
      "metadata": {
        "id": "iqk2gyy3rRPs"
      }
    },
    {
      "cell_type": "code",
      "execution_count": 1,
      "metadata": {
        "colab": {
          "base_uri": "https://localhost:8080/"
        },
        "id": "gIsZ0_E0rQz9",
        "outputId": "e181753c-e13b-44a3-a1c5-c42dee6fc972"
      },
      "outputs": [
        {
          "output_type": "stream",
          "name": "stdout",
          "text": [
            "15\n"
          ]
        }
      ],
      "source": [
        "x = lambda a : a + 10\n",
        "print(x(5))"
      ]
    },
    {
      "cell_type": "code",
      "source": [
        "x = lambda a, b : a * b\n",
        "print(x(5, 6))"
      ],
      "metadata": {
        "colab": {
          "base_uri": "https://localhost:8080/"
        },
        "id": "lH33k15hrlL2",
        "outputId": "1b62a729-cd20-4b9f-99d2-56cdc0520d3a"
      },
      "execution_count": 2,
      "outputs": [
        {
          "output_type": "stream",
          "name": "stdout",
          "text": [
            "30\n"
          ]
        }
      ]
    },
    {
      "cell_type": "code",
      "source": [
        "x = lambda a, b, c : a + b + c\n",
        "print(x(5, 6, 2))"
      ],
      "metadata": {
        "colab": {
          "base_uri": "https://localhost:8080/"
        },
        "id": "2Wpo4fD7rp1C",
        "outputId": "70ac773d-a173-4fcf-b605-0a269298660e"
      },
      "execution_count": 3,
      "outputs": [
        {
          "output_type": "stream",
          "name": "stdout",
          "text": [
            "13\n"
          ]
        }
      ]
    },
    {
      "cell_type": "code",
      "source": [
        "def myfunc(n):\n",
        "  return lambda a : a * n\n",
        "\n",
        "mydoubler = myfunc(2)\n",
        "\n",
        "print(mydoubler(11))"
      ],
      "metadata": {
        "colab": {
          "base_uri": "https://localhost:8080/"
        },
        "id": "-er_PeGvrv3Q",
        "outputId": "38c988c3-98bc-4cb6-feeb-407e98cf2e3a"
      },
      "execution_count": 4,
      "outputs": [
        {
          "output_type": "stream",
          "name": "stdout",
          "text": [
            "22\n"
          ]
        }
      ]
    },
    {
      "cell_type": "code",
      "source": [
        "def myfunc(n):\n",
        "  return lambda a : a * n\n",
        "\n",
        "mytripler = myfunc(3)\n",
        "\n",
        "print(mytripler(11))"
      ],
      "metadata": {
        "colab": {
          "base_uri": "https://localhost:8080/"
        },
        "id": "eNJT7TuNry6M",
        "outputId": "485e5ab7-c847-412d-f8ea-3f4514b66104"
      },
      "execution_count": 5,
      "outputs": [
        {
          "output_type": "stream",
          "name": "stdout",
          "text": [
            "33\n"
          ]
        }
      ]
    },
    {
      "cell_type": "code",
      "source": [
        "def myfunc(n):\n",
        "  return lambda a : a * n\n",
        "\n",
        "mydoubler = myfunc(2)\n",
        "mytripler = myfunc(3)\n",
        "\n",
        "print(mydoubler(11))\n",
        "print(mytripler(11))"
      ],
      "metadata": {
        "colab": {
          "base_uri": "https://localhost:8080/"
        },
        "id": "ssMoW1UDr3lf",
        "outputId": "85fda8f2-cc81-4413-8316-d3021b42f8c9"
      },
      "execution_count": 6,
      "outputs": [
        {
          "output_type": "stream",
          "name": "stdout",
          "text": [
            "22\n",
            "33\n"
          ]
        }
      ]
    },
    {
      "cell_type": "code",
      "source": [
        "# Lambda function to calculate the square of a complex number\n",
        "square_complex = lambda z: z * z\n",
        "\n",
        "# Complex number\n",
        "complex_num = 3 + 4j\n",
        "\n",
        "# Calculate the square using the lambda function\n",
        "result = square_complex(complex_num)\n",
        "\n",
        "# Display the result\n",
        "print(\"Square of\", complex_num, \":\", result)"
      ],
      "metadata": {
        "colab": {
          "base_uri": "https://localhost:8080/"
        },
        "id": "49Di7kWjsKsu",
        "outputId": "0cb0cde1-8962-40cc-ad80-fcbcef7b8a76"
      },
      "execution_count": 7,
      "outputs": [
        {
          "output_type": "stream",
          "name": "stdout",
          "text": [
            "Square of (3+4j) : (-7+24j)\n"
          ]
        }
      ]
    },
    {
      "cell_type": "code",
      "source": [
        "import numpy as np\n",
        "\n",
        "# Define a function to calculate the nth Fibonacci number using matrix exponentiation\n",
        "def fibonacci_matrix_exponentiation(n):\n",
        "    if n == 0:\n",
        "        return 0\n",
        "    elif n == 1:\n",
        "        return 1\n",
        "\n",
        "    # Define the Fibonacci matrix\n",
        "    fibonacci_matrix = np.array([[1, 1], [1, 0]], dtype=object)\n",
        "\n",
        "    # Compute the (n-1)th power of the matrix\n",
        "    result_matrix = np.linalg.matrix_power(fibonacci_matrix, n - 1)\n",
        "\n",
        "    # Extract the Fibonacci number from the result matrix\n",
        "    fibonacci_number = result_matrix[0, 0]\n",
        "\n",
        "    return fibonacci_number\n",
        "\n",
        "# Calculate and print the 10th Fibonacci number using matrix exponentiation\n",
        "n = 10\n",
        "fibonacci_10 = fibonacci_matrix_exponentiation(n)\n",
        "print(f\"The {n}th Fibonacci number is:\", fibonacci_10)"
      ],
      "metadata": {
        "colab": {
          "base_uri": "https://localhost:8080/"
        },
        "id": "4mRF19fgsdFC",
        "outputId": "9853581e-fe64-4456-dd85-78c3023c8157"
      },
      "execution_count": 8,
      "outputs": [
        {
          "output_type": "stream",
          "name": "stdout",
          "text": [
            "The 10th Fibonacci number is: 55\n"
          ]
        }
      ]
    }
  ]
}
