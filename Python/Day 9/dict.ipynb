{
  "nbformat": 4,
  "nbformat_minor": 0,
  "metadata": {
    "colab": {
      "provenance": [],
      "authorship_tag": "ABX9TyN/QVBwIpB6AdTLHQhayzXK",
      "include_colab_link": true
    },
    "kernelspec": {
      "name": "python3",
      "display_name": "Python 3"
    },
    "language_info": {
      "name": "python"
    }
  },
  "cells": [
    {
      "cell_type": "markdown",
      "metadata": {
        "id": "view-in-github",
        "colab_type": "text"
      },
      "source": [
        "<a href=\"https://colab.research.google.com/github/muhbasit/E/blob/main/dict.ipynb\" target=\"_parent\"><img src=\"https://colab.research.google.com/assets/colab-badge.svg\" alt=\"Open In Colab\"/></a>"
      ]
    },
    {
      "cell_type": "code",
      "execution_count": 1,
      "metadata": {
        "colab": {
          "base_uri": "https://localhost:8080/"
        },
        "id": "4XWgclKIPeIh",
        "outputId": "0531a89e-b8b2-45bb-e02f-766e8eb72b0c"
      },
      "outputs": [
        {
          "output_type": "stream",
          "name": "stdout",
          "text": [
            "a sweet and crunchy fruit\n",
            "apple: a sweet and crunchy fruit\n",
            "banana: a delicious tropical fruit\n",
            "orange: a citrus fruit\n"
          ]
        }
      ],
      "source": [
        "# Creating a dictionary using curly braces {}\n",
        "fruits = {\n",
        "    \"apple\": \"a sweet and crunchy fruit\",\n",
        "    \"banana\": \"a tropical yellow fruit\",\n",
        "    \"cherry\": \"a small, round, red fruit\"\n",
        "}\n",
        "\n",
        "# Accessing elements in the dictionary\n",
        "print(fruits[\"apple\"])  # Output: a sweet and crunchy fruit\n",
        "\n",
        "# Adding a new key-value pair\n",
        "fruits[\"orange\"] = \"a citrus fruit\"\n",
        "\n",
        "# Modifying a value\n",
        "fruits[\"banana\"] = \"a delicious tropical fruit\"\n",
        "\n",
        "# Deleting a key-value pair\n",
        "del fruits[\"cherry\"]\n",
        "\n",
        "# Iterating through keys and values\n",
        "for fruit, description in fruits.items():\n",
        "    print(f\"{fruit}: {description}\")"
      ]
    },
    {
      "cell_type": "code",
      "source": [
        "student = {\n",
        "    \"name\": \"Alice\",\n",
        "    \"age\": 20,\n",
        "    \"courses\": {\n",
        "        \"math\": 95,\n",
        "        \"science\": 85,\n",
        "        \"history\": 78\n",
        "    }\n",
        "}\n",
        "\n",
        "# Accessing nested elements\n",
        "print(student[\"name\"])                 # Output: Alice\n",
        "print(student[\"courses\"][\"math\"])      # Output: 95"
      ],
      "metadata": {
        "colab": {
          "base_uri": "https://localhost:8080/"
        },
        "id": "YxHJNIiyPxsX",
        "outputId": "43f85a3a-d9f4-4280-dcea-74bd46602cbd"
      },
      "execution_count": 2,
      "outputs": [
        {
          "output_type": "stream",
          "name": "stdout",
          "text": [
            "Alice\n",
            "95\n"
          ]
        }
      ]
    },
    {
      "cell_type": "code",
      "source": [
        "squared_numbers = {x: x**2 for x in range(1, 6)}\n",
        "print(squared_numbers)  # Output: {1: 1, 2: 4, 3: 9, 4: 16, 5: 25}"
      ],
      "metadata": {
        "colab": {
          "base_uri": "https://localhost:8080/"
        },
        "id": "WINt12tnPy5G",
        "outputId": "c9d0cdc1-ef4e-4a34-9b1e-304c2306f482"
      },
      "execution_count": 3,
      "outputs": [
        {
          "output_type": "stream",
          "name": "stdout",
          "text": [
            "{1: 1, 2: 4, 3: 9, 4: 16, 5: 25}\n"
          ]
        }
      ]
    },
    {
      "cell_type": "code",
      "source": [
        "print(student.keys())      # Output: dict_keys(['name', 'age', 'courses'])\n",
        "print(student.values())    # Output: dict_values(['Alice', 20, {'math': 95, 'science': 85, 'history': 78}])\n",
        "print(student.items())     # Output: dict_items([('name', 'Alice'), ('age', 20), ('courses', {'math': 95, 'science': 85, 'history': 78})])"
      ],
      "metadata": {
        "colab": {
          "base_uri": "https://localhost:8080/"
        },
        "id": "f01sv0kYPz4C",
        "outputId": "53800c72-3ff3-4858-96cf-a9cac4ee099d"
      },
      "execution_count": 4,
      "outputs": [
        {
          "output_type": "stream",
          "name": "stdout",
          "text": [
            "dict_keys(['name', 'age', 'courses'])\n",
            "dict_values(['Alice', 20, {'math': 95, 'science': 85, 'history': 78}])\n",
            "dict_items([('name', 'Alice'), ('age', 20), ('courses', {'math': 95, 'science': 85, 'history': 78})])\n"
          ]
        }
      ]
    },
    {
      "cell_type": "code",
      "source": [
        "student[\"address\"] = \"123 Main St\"\n",
        "print(student)\n",
        "\n",
        "del student[\"age\"]\n",
        "print(student)\n",
        "\n",
        "student[\"courses\"][\"english\"] = 90\n",
        "print(student)"
      ],
      "metadata": {
        "id": "NufGdS5vP1Ip",
        "outputId": "a235da74-fce8-4166-a5b8-ca599915e328",
        "colab": {
          "base_uri": "https://localhost:8080/"
        }
      },
      "execution_count": 5,
      "outputs": [
        {
          "output_type": "stream",
          "name": "stdout",
          "text": [
            "{'name': 'Alice', 'age': 20, 'courses': {'math': 95, 'science': 85, 'history': 78}, 'address': '123 Main St'}\n",
            "{'name': 'Alice', 'courses': {'math': 95, 'science': 85, 'history': 78}, 'address': '123 Main St'}\n",
            "{'name': 'Alice', 'courses': {'math': 95, 'science': 85, 'history': 78, 'english': 90}, 'address': '123 Main St'}\n"
          ]
        }
      ]
    },
    {
      "cell_type": "code",
      "source": [
        "sorted_keys = sorted(student)\n",
        "print(sorted_keys)  # Output: ['address', 'courses', 'name']\n",
        "\n",
        "sorted_items = sorted(student.items())\n",
        "print(sorted_items)  # Output: [('address', '123 Main St'), ('courses', {'math': 95, 'science': 85, 'history': 78, 'english': 90}), ('name', 'Alice')]"
      ],
      "metadata": {
        "id": "5jgDvF0dP2uy",
        "outputId": "62107ad7-34d9-4b7d-af13-abdaa434a274",
        "colab": {
          "base_uri": "https://localhost:8080/"
        }
      },
      "execution_count": 6,
      "outputs": [
        {
          "output_type": "stream",
          "name": "stdout",
          "text": [
            "['address', 'courses', 'name']\n",
            "[('address', '123 Main St'), ('courses', {'math': 95, 'science': 85, 'history': 78, 'english': 90}), ('name', 'Alice')]\n"
          ]
        }
      ]
    }
  ]
}
