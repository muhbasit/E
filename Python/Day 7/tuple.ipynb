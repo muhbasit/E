{
  "nbformat": 4,
  "nbformat_minor": 0,
  "metadata": {
    "colab": {
      "provenance": [],
      "authorship_tag": "ABX9TyPVrhUvquqLf3mZ+HpbImjD",
      "include_colab_link": true
    },
    "kernelspec": {
      "name": "python3",
      "display_name": "Python 3"
    },
    "language_info": {
      "name": "python"
    }
  },
  "cells": [
    {
      "cell_type": "markdown",
      "metadata": {
        "id": "view-in-github",
        "colab_type": "text"
      },
      "source": [
        "<a href=\"https://colab.research.google.com/github/muhbasit/E/blob/main/tuple.ipynb\" target=\"_parent\"><img src=\"https://colab.research.google.com/assets/colab-badge.svg\" alt=\"Open In Colab\"/></a>"
      ]
    },
    {
      "cell_type": "markdown",
      "source": [
        "# Tuple\n",
        "\n",
        "Tuples are used to store multiple items in a single variable.\n",
        "\n",
        "Tuple is one of 4 built-in data types in Python used to store collections of data, the other 3 are List, Set, and Dictionary, all with different qualities and usage.\n",
        "\n",
        "A tuple is a collection which is ordered and unchangeable.\n",
        "\n",
        "Tuples are written with round brackets."
      ],
      "metadata": {
        "id": "7bSXNQP4ntbI"
      }
    },
    {
      "cell_type": "code",
      "execution_count": null,
      "metadata": {
        "id": "ppnTb-bonpMw"
      },
      "outputs": [],
      "source": [
        "tup = (5,6,7,8,4,3,2,5,7,8,9,9)"
      ]
    },
    {
      "cell_type": "code",
      "source": [
        "print(tup)"
      ],
      "metadata": {
        "colab": {
          "base_uri": "https://localhost:8080/"
        },
        "id": "qhEY4A5An3GQ",
        "outputId": "4f6d1050-2e87-44ed-826c-62be22f4107e"
      },
      "execution_count": null,
      "outputs": [
        {
          "output_type": "stream",
          "name": "stdout",
          "text": [
            "(5, 6, 7, 8, 4, 3, 2, 5, 7, 8, 9, 9)\n"
          ]
        }
      ]
    },
    {
      "cell_type": "markdown",
      "source": [
        "## Tuple Items\n",
        "\n",
        "Tuple items are ordered, unchangeable, and allow duplicate values.\n",
        "\n",
        "Tuple items are indexed, the first item has index [0], the second item has index [1] etc."
      ],
      "metadata": {
        "id": "uWEUBknsoFW7"
      }
    },
    {
      "cell_type": "code",
      "source": [
        "first = tup[0]\n",
        "print(first)"
      ],
      "metadata": {
        "colab": {
          "base_uri": "https://localhost:8080/"
        },
        "id": "1bL9HrLooJtQ",
        "outputId": "c627aaff-5fe0-4bd1-a640-a400a36bf593"
      },
      "execution_count": null,
      "outputs": [
        {
          "output_type": "stream",
          "name": "stdout",
          "text": [
            "5\n"
          ]
        }
      ]
    },
    {
      "cell_type": "markdown",
      "source": [
        "# Allow Duplicate\n",
        "\n",
        "Since tuples are indexed, they can have items with the same value:"
      ],
      "metadata": {
        "id": "eeFdXfdcoWbt"
      }
    },
    {
      "cell_type": "code",
      "source": [
        "fruit = (\"apple\", \"banana\", \"cherry\", \"apple\", \"cherry\")\n",
        "print(fruit)"
      ],
      "metadata": {
        "colab": {
          "base_uri": "https://localhost:8080/"
        },
        "id": "dZX5j628o8nc",
        "outputId": "b02f4c33-e839-4cf4-b6b8-212a606ffeda"
      },
      "execution_count": null,
      "outputs": [
        {
          "output_type": "stream",
          "name": "stdout",
          "text": [
            "('apple', 'banana', 'cherry', 'apple', 'cherry')\n"
          ]
        }
      ]
    },
    {
      "cell_type": "markdown",
      "source": [
        "# Tuple Length\n",
        "\n",
        "To determine how many items a tuple has, use the len() function:"
      ],
      "metadata": {
        "id": "kMHrQS-NpJko"
      }
    },
    {
      "cell_type": "code",
      "source": [
        "n = len(tup)\n",
        "print(n)"
      ],
      "metadata": {
        "colab": {
          "base_uri": "https://localhost:8080/"
        },
        "id": "RwbByRVLpOEz",
        "outputId": "d3a66d75-7124-42cc-8cff-8f06b50c2259"
      },
      "execution_count": null,
      "outputs": [
        {
          "output_type": "stream",
          "name": "stdout",
          "text": [
            "12\n"
          ]
        }
      ]
    },
    {
      "cell_type": "markdown",
      "source": [
        "## Create Tuple with one variable\n",
        "\n",
        "To create a tuple with only one item, you have to add a comma after the item, otherwise Python will not recognize it as a tuple."
      ],
      "metadata": {
        "id": "0kjMUYg0pfZu"
      }
    },
    {
      "cell_type": "code",
      "source": [
        "a = (\"apple\",)\n",
        "print(type(a))\n",
        "\n",
        "#NOT a tuple\n",
        "b = (\"apple\")\n",
        "print(type(b))"
      ],
      "metadata": {
        "colab": {
          "base_uri": "https://localhost:8080/"
        },
        "id": "L1U3uMF-pm7O",
        "outputId": "f0c6c06f-7bb7-44d3-80fb-ba58e211e76c"
      },
      "execution_count": null,
      "outputs": [
        {
          "output_type": "stream",
          "name": "stdout",
          "text": [
            "<class 'tuple'>\n",
            "<class 'str'>\n"
          ]
        }
      ]
    },
    {
      "cell_type": "code",
      "source": [
        "tuple1 = (\"apple\", \"banana\", \"cherry\")\n",
        "print(tuple1)\n",
        "print(type(tuple1))"
      ],
      "metadata": {
        "colab": {
          "base_uri": "https://localhost:8080/"
        },
        "id": "16eCdgE9p4tf",
        "outputId": "bc762671-7988-46ba-955c-9c3c9be224f0"
      },
      "execution_count": null,
      "outputs": [
        {
          "output_type": "stream",
          "name": "stdout",
          "text": [
            "('apple', 'banana', 'cherry')\n",
            "<class 'tuple'>\n"
          ]
        }
      ]
    },
    {
      "cell_type": "code",
      "source": [
        "tuple2 = (1, 5, 7, 9, 3)\n",
        "print(tuple2)\n",
        "print(type(tuple2))"
      ],
      "metadata": {
        "colab": {
          "base_uri": "https://localhost:8080/"
        },
        "id": "OqIHV5Ctp6mv",
        "outputId": "53534bcd-b67a-4ecc-f571-e0112e5f6981"
      },
      "execution_count": null,
      "outputs": [
        {
          "output_type": "stream",
          "name": "stdout",
          "text": [
            "(1, 5, 7, 9, 3)\n",
            "<class 'tuple'>\n"
          ]
        }
      ]
    },
    {
      "cell_type": "code",
      "source": [
        "tuple3 = (True, False, False)\n",
        "print(tuple3)\n",
        "print(type(tuple3))"
      ],
      "metadata": {
        "colab": {
          "base_uri": "https://localhost:8080/"
        },
        "id": "JfqnKlvPp-vD",
        "outputId": "85db724d-ebf4-48cf-c069-36d3463f8e66"
      },
      "execution_count": null,
      "outputs": [
        {
          "output_type": "stream",
          "name": "stdout",
          "text": [
            "(True, False, False)\n",
            "<class 'tuple'>\n"
          ]
        }
      ]
    },
    {
      "cell_type": "markdown",
      "source": [
        "## Tuple with tuple() Constructor\n",
        "\n",
        "It is also possible to use the tuple() constructor to make a tuple."
      ],
      "metadata": {
        "id": "Z9ne3QyCqWOk"
      }
    },
    {
      "cell_type": "code",
      "source": [
        "tupCon = tuple((\"apple\", \"banana\", \"cherry\"))\n",
        "# note the double round-brackets\n",
        "print(tupCon)"
      ],
      "metadata": {
        "colab": {
          "base_uri": "https://localhost:8080/"
        },
        "id": "bNB8ry23qgwB",
        "outputId": "633ebc77-38c7-40f5-bedb-58e3ce32f999"
      },
      "execution_count": null,
      "outputs": [
        {
          "output_type": "stream",
          "name": "stdout",
          "text": [
            "('apple', 'banana', 'cherry')\n"
          ]
        }
      ]
    },
    {
      "cell_type": "markdown",
      "source": [
        "## Accessing Tuple Items"
      ],
      "metadata": {
        "id": "5_kLlYQcH4Jw"
      }
    },
    {
      "cell_type": "code",
      "source": [
        "fruit = (\"apple\", \"banana\", \"cherry\", \"apple\", \"cherry\")\n",
        "print(fruit[1])"
      ],
      "metadata": {
        "colab": {
          "base_uri": "https://localhost:8080/"
        },
        "id": "a12q1LdZH2oH",
        "outputId": "7ad18233-fb86-4932-b50b-b462c1e39645"
      },
      "execution_count": 2,
      "outputs": [
        {
          "output_type": "stream",
          "name": "stdout",
          "text": [
            "banana\n"
          ]
        }
      ]
    },
    {
      "cell_type": "code",
      "source": [
        "print(fruit[0])\n",
        "print(fruit[1:5])\n",
        "print(fruit[:3])\n",
        "print(fruit[-1])\n",
        "print(fruit[0:5:2])\n",
        "print(fruit[-5:-1])\n",
        "print(fruit[-5:5])\n",
        "print(fruit[-5:5:2])"
      ],
      "metadata": {
        "colab": {
          "base_uri": "https://localhost:8080/"
        },
        "id": "r_2V1P4XICbo",
        "outputId": "3746d8aa-77f8-4e56-e8aa-3aea2ab9b914"
      },
      "execution_count": 9,
      "outputs": [
        {
          "output_type": "stream",
          "name": "stdout",
          "text": [
            "apple\n",
            "('banana', 'cherry', 'apple', 'cherry')\n",
            "('apple', 'banana', 'cherry')\n",
            "cherry\n",
            "('apple', 'cherry', 'cherry')\n",
            "('apple', 'banana', 'cherry', 'apple')\n",
            "('apple', 'banana', 'cherry', 'apple', 'cherry')\n",
            "('apple', 'cherry', 'cherry')\n"
          ]
        }
      ]
    },
    {
      "cell_type": "markdown",
      "source": [
        "## Check Item Exist in Tuple\n",
        "\n",
        "To determine if a specified item is present in a tuple use the in keyword:"
      ],
      "metadata": {
        "id": "EjY97uuOIqRI"
      }
    },
    {
      "cell_type": "code",
      "source": [
        "if 'apple' in fruit:\n",
        "  print(True)"
      ],
      "metadata": {
        "colab": {
          "base_uri": "https://localhost:8080/"
        },
        "id": "NQZ2o4StIu4I",
        "outputId": "0f514b45-1742-4a47-a378-18e78e99136a"
      },
      "execution_count": 16,
      "outputs": [
        {
          "output_type": "stream",
          "name": "stdout",
          "text": [
            "True\n"
          ]
        }
      ]
    },
    {
      "cell_type": "code",
      "source": [
        "if 'apple1' not in fruit:\n",
        "  print(\"False\")"
      ],
      "metadata": {
        "colab": {
          "base_uri": "https://localhost:8080/"
        },
        "id": "0dAtrvwfJE1Z",
        "outputId": "133323fb-74d9-4f64-819b-ea02cf96040b"
      },
      "execution_count": 17,
      "outputs": [
        {
          "output_type": "stream",
          "name": "stdout",
          "text": [
            "False\n"
          ]
        }
      ]
    }
  ]
}
