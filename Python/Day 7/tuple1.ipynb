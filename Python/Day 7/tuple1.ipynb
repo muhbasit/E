{
  "nbformat": 4,
  "nbformat_minor": 0,
  "metadata": {
    "colab": {
      "provenance": [],
      "authorship_tag": "ABX9TyPHYeJoFi1kcbIa8CycGesa",
      "include_colab_link": true
    },
    "kernelspec": {
      "name": "python3",
      "display_name": "Python 3"
    },
    "language_info": {
      "name": "python"
    }
  },
  "cells": [
    {
      "cell_type": "markdown",
      "metadata": {
        "id": "view-in-github",
        "colab_type": "text"
      },
      "source": [
        "<a href=\"https://colab.research.google.com/github/muhbasit/E/blob/main/tuple1.ipynb\" target=\"_parent\"><img src=\"https://colab.research.google.com/assets/colab-badge.svg\" alt=\"Open In Colab\"/></a>"
      ]
    },
    {
      "cell_type": "code",
      "execution_count": 1,
      "metadata": {
        "colab": {
          "base_uri": "https://localhost:8080/"
        },
        "id": "DBYaBGl5KqHq",
        "outputId": "472e5ade-0b5a-4190-be2e-985d76cd378d"
      },
      "outputs": [
        {
          "output_type": "stream",
          "name": "stdout",
          "text": [
            "apple\n",
            "3\n",
            "apple\n",
            "banana\n",
            "cherry\n",
            "Yes, banana is in the tuple\n",
            "apple banana cherry\n",
            "('apple', 'banana', 'cherry', 'orange', 'grape')\n",
            "b\n",
            "1\n",
            "2\n",
            "(1, 4, 9, 16, 25)\n"
          ]
        }
      ],
      "source": [
        "# Creating a tuple\n",
        "fruits = (\"apple\", \"banana\", \"cherry\")\n",
        "\n",
        "# Accessing elements\n",
        "print(fruits[0])  # Output: apple\n",
        "\n",
        "# Length of tuple\n",
        "print(len(fruits))  # Output: 3\n",
        "\n",
        "# Looping through a tuple\n",
        "for fruit in fruits:\n",
        "    print(fruit)\n",
        "\n",
        "# Check if an element exists in the tuple\n",
        "if \"banana\" in fruits:\n",
        "    print(\"Yes, banana is in the tuple\")\n",
        "\n",
        "# Tuple unpacking\n",
        "(first, second, third) = fruits\n",
        "print(first, second, third)  # Output: apple banana cherry\n",
        "\n",
        "# Concatenating tuples\n",
        "more_fruits = (\"orange\", \"grape\")\n",
        "all_fruits = fruits + more_fruits\n",
        "print(all_fruits)  # Output: ('apple', 'banana', 'cherry', 'orange', 'grape')\n",
        "\n",
        "# Nested tuples\n",
        "nested_tuple = ((\"a\", \"b\"), (\"c\", \"d\"))\n",
        "print(nested_tuple[0][1])  # Output: b\n",
        "\n",
        "# Count occurrences of an element\n",
        "count_bananas = fruits.count(\"banana\")\n",
        "print(count_bananas)  # Output: 1\n",
        "\n",
        "# Find index of an element\n",
        "index_cherry = fruits.index(\"cherry\")\n",
        "print(index_cherry)  # Output: 2\n",
        "\n",
        "# Convert tuple to a list\n",
        "fruits_list = list(fruits)\n",
        "\n",
        "# Convert list back to a tuple\n",
        "fruits_tuple = tuple(fruits_list)\n",
        "\n",
        "# Tuple comprehension (Python 3.8+)\n",
        "numbers = (1, 2, 3, 4, 5)\n",
        "squared_numbers = tuple(x**2 for x in numbers)\n",
        "print(squared_numbers)  # Output: (1, 4, 9, 16, 25)"
      ]
    }
  ]
}
