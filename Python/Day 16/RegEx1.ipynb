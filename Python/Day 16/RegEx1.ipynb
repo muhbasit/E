{
  "nbformat": 4,
  "nbformat_minor": 0,
  "metadata": {
    "colab": {
      "provenance": [],
      "authorship_tag": "ABX9TyMs7J3d7xJ5nwHJxxDJ9JaN",
      "include_colab_link": true
    },
    "kernelspec": {
      "name": "python3",
      "display_name": "Python 3"
    },
    "language_info": {
      "name": "python"
    }
  },
  "cells": [
    {
      "cell_type": "markdown",
      "metadata": {
        "id": "view-in-github",
        "colab_type": "text"
      },
      "source": [
        "<a href=\"https://colab.research.google.com/github/muhbasit/E/blob/main/RegEx1.ipynb\" target=\"_parent\"><img src=\"https://colab.research.google.com/assets/colab-badge.svg\" alt=\"Open In Colab\"/></a>"
      ]
    },
    {
      "cell_type": "markdown",
      "source": [
        "# Python RegEx\n",
        "A RegEx, or Regular Expression, is a sequence of characters that forms a search pattern.\n",
        "\n",
        "RegEx can be used to check if a string contains the specified search pattern.\n",
        "\n",
        "##RegEx Module\n",
        "Python has a built-in package called re, which can be used to work with Regular Expressions.\n",
        "\n",
        "##RegEx in Python\n",
        "When you have imported the re module, you can start using regular expressions:"
      ],
      "metadata": {
        "id": "OrVfKav0bbR0"
      }
    },
    {
      "cell_type": "code",
      "execution_count": 1,
      "metadata": {
        "colab": {
          "base_uri": "https://localhost:8080/"
        },
        "id": "ME4hX8HAbXES",
        "outputId": "3c24c165-1895-4cdc-92b5-d9ef906ab0d3"
      },
      "outputs": [
        {
          "output_type": "stream",
          "name": "stdout",
          "text": [
            "YES! We have a match!\n"
          ]
        }
      ],
      "source": [
        "import re\n",
        "\n",
        "#Check if the string starts with\n",
        "#\"The\" and ends with \"Spain\":\n",
        "\n",
        "txt = \"The rain in Spain\"\n",
        "x = re.search(\"^The.*Spain$\", txt)\n",
        "\n",
        "if x:\n",
        "  print(\"YES! We have a match!\")\n",
        "else:\n",
        "  print(\"No match\")"
      ]
    },
    {
      "cell_type": "markdown",
      "source": [
        "##RegEx Functions\n",
        "The re module offers a set of functions that allows us to search a string for a match:\n",
        "\n",
        "Function    Description\n",
        "findall Returns a list containing all matches\n",
        "search  Returns a Match object if there is a match anywhere in the string\n",
        "split   Returns a list where the string has been split at each match\n",
        "sub Replaces one or many matches with a string"
      ],
      "metadata": {
        "id": "nouPMX7Tb76W"
      }
    },
    {
      "cell_type": "code",
      "source": [
        "import re\n",
        "\n",
        "txt = \"The rain in Spain\"\n",
        "\n",
        "#Find all lower case characters\n",
        "#alphabetically between \"a\" and \"m\":\n",
        "\n",
        "x = re.findall(\"[a-m]\", txt)\n",
        "print(x)"
      ],
      "metadata": {
        "colab": {
          "base_uri": "https://localhost:8080/"
        },
        "id": "kG1my-Gtb-Lc",
        "outputId": "4b818920-abcc-4395-fb7f-0e6d97348393"
      },
      "execution_count": 2,
      "outputs": [
        {
          "output_type": "stream",
          "name": "stdout",
          "text": [
            "['h', 'e', 'a', 'i', 'i', 'a', 'i']\n"
          ]
        }
      ]
    },
    {
      "cell_type": "code",
      "source": [
        "import re\n",
        "\n",
        "txt = \"That will be 59 dollars\"\n",
        "\n",
        "#Find all digit characters:\n",
        "\n",
        "x = re.findall(\"\\d\", txt)\n",
        "print(x)"
      ],
      "metadata": {
        "colab": {
          "base_uri": "https://localhost:8080/"
        },
        "id": "AL53hr8ScLkt",
        "outputId": "6d9305e8-2141-4fda-d39e-1e3c55a0c59d"
      },
      "execution_count": 4,
      "outputs": [
        {
          "output_type": "stream",
          "name": "stdout",
          "text": [
            "['5', '9']\n"
          ]
        }
      ]
    },
    {
      "cell_type": "code",
      "source": [
        "import re\n",
        "\n",
        "txt = \"hello planet\"\n",
        "\n",
        "#Search for a sequence that\n",
        "#starts with \"he\", followed by\n",
        "# two (any) characters, and an \"o\":\n",
        "\n",
        "x = re.findall(\"he..o\", txt)\n",
        "print(x)"
      ],
      "metadata": {
        "colab": {
          "base_uri": "https://localhost:8080/"
        },
        "id": "qrIbwn6hcQ8Z",
        "outputId": "d300b19c-d2dd-4247-b0d1-7c02b0d2eca2"
      },
      "execution_count": 5,
      "outputs": [
        {
          "output_type": "stream",
          "name": "stdout",
          "text": [
            "['hello']\n"
          ]
        }
      ]
    },
    {
      "cell_type": "code",
      "source": [
        "import re\n",
        "\n",
        "txt = \"hello planet\"\n",
        "\n",
        "#Check if the string starts with 'hello':\n",
        "\n",
        "x = re.findall(\"^hello\", txt)\n",
        "if x:\n",
        "  print(\"Yes, the string starts with 'hello'\")\n",
        "else:\n",
        "  print(\"No match\")"
      ],
      "metadata": {
        "colab": {
          "base_uri": "https://localhost:8080/"
        },
        "id": "l4-9egEOcfsO",
        "outputId": "2fcf6dc8-6134-4fdd-e6aa-2e59a965b176"
      },
      "execution_count": 6,
      "outputs": [
        {
          "output_type": "stream",
          "name": "stdout",
          "text": [
            "Yes, the string starts with 'hello'\n"
          ]
        }
      ]
    },
    {
      "cell_type": "code",
      "source": [
        "import re\n",
        "\n",
        "txt = \"hello planet\"\n",
        "\n",
        "#Check if the string ends with 'planet':\n",
        "\n",
        "x = re.findall(\"planet$\", txt)\n",
        "if x:\n",
        "  print(\"Yes, the string ends with 'planet'\")\n",
        "else:\n",
        "  print(\"No match\")"
      ],
      "metadata": {
        "colab": {
          "base_uri": "https://localhost:8080/"
        },
        "id": "SPQRcD3Scl2x",
        "outputId": "b2df4c8c-bc79-4636-8546-c8097ad5b0a9"
      },
      "execution_count": 9,
      "outputs": [
        {
          "output_type": "stream",
          "name": "stdout",
          "text": [
            "Yes, the string ends with 'planet'\n"
          ]
        }
      ]
    },
    {
      "cell_type": "code",
      "source": [
        "import re\n",
        "\n",
        "txt = \"hello planet\"\n",
        "\n",
        "#Search for a sequence that starts with \"he\", followed by 0 or more  (any) characters, and an \"o\":\n",
        "\n",
        "x = re.findall(\"he.*o\", txt)\n",
        "\n",
        "print(x)"
      ],
      "metadata": {
        "colab": {
          "base_uri": "https://localhost:8080/"
        },
        "id": "P1_rVjohcq15",
        "outputId": "ce578004-679a-452e-b3f1-81d461c79d0d"
      },
      "execution_count": 8,
      "outputs": [
        {
          "output_type": "stream",
          "name": "stdout",
          "text": [
            "['hello']\n"
          ]
        }
      ]
    },
    {
      "cell_type": "code",
      "source": [
        "import re\n",
        "\n",
        "txt = \"hello planet\"\n",
        "\n",
        "#Search for a sequence that starts with \"he\", followed by 1 or more  (any) characters, and an \"o\":\n",
        "\n",
        "x = re.findall(\"he.+o\", txt)\n",
        "\n",
        "print(x)"
      ],
      "metadata": {
        "colab": {
          "base_uri": "https://localhost:8080/"
        },
        "id": "FElT-6wwc7nZ",
        "outputId": "acaa3d10-385e-460f-ecf5-29d52526a34b"
      },
      "execution_count": 10,
      "outputs": [
        {
          "output_type": "stream",
          "name": "stdout",
          "text": [
            "['hello']\n"
          ]
        }
      ]
    },
    {
      "cell_type": "code",
      "source": [
        "import re\n",
        "\n",
        "txt = \"hello planet\"\n",
        "\n",
        "#Search for a sequence that starts with \"he\", followed by 0 or 1  (any) character, and an \"o\":\n",
        "\n",
        "x = re.findall(\"he.?o\", txt)\n",
        "\n",
        "print(x)\n",
        "\n",
        "#This time we got no match, because there were not zero, not one, but two characters between \"he\" and the \"o\""
      ],
      "metadata": {
        "colab": {
          "base_uri": "https://localhost:8080/"
        },
        "id": "G7REZQJ2c_44",
        "outputId": "74d64f70-4047-4633-d933-3431597293a5"
      },
      "execution_count": 11,
      "outputs": [
        {
          "output_type": "stream",
          "name": "stdout",
          "text": [
            "[]\n"
          ]
        }
      ]
    },
    {
      "cell_type": "code",
      "source": [
        "import re\n",
        "\n",
        "txt = \"hello planet\"\n",
        "\n",
        "#Search for a sequence that starts with \"he\", followed excactly 2 (any) characters, and an \"o\":\n",
        "\n",
        "x = re.findall(\"he.{2}o\", txt)\n",
        "\n",
        "print(x)"
      ],
      "metadata": {
        "colab": {
          "base_uri": "https://localhost:8080/"
        },
        "id": "ZgphUXZTdAtI",
        "outputId": "75c286b6-3339-4955-d32d-1bee60cf9d07"
      },
      "execution_count": 12,
      "outputs": [
        {
          "output_type": "stream",
          "name": "stdout",
          "text": [
            "['hello']\n"
          ]
        }
      ]
    },
    {
      "cell_type": "code",
      "source": [
        "import re\n",
        "\n",
        "txt = \"The rain in Spain falls mainly in the plain!\"\n",
        "\n",
        "#Check if the string contains either \"falls\" or \"stays\":\n",
        "\n",
        "x = re.findall(\"falls|stays\", txt)\n",
        "\n",
        "print(x)\n",
        "\n",
        "if x:\n",
        "  print(\"Yes, there is at least one match!\")\n",
        "else:\n",
        "  print(\"No match\")"
      ],
      "metadata": {
        "colab": {
          "base_uri": "https://localhost:8080/"
        },
        "id": "aTqoE8ZfdGs1",
        "outputId": "e65958a7-a538-49e7-cead-99da40ab669b"
      },
      "execution_count": 13,
      "outputs": [
        {
          "output_type": "stream",
          "name": "stdout",
          "text": [
            "['falls']\n",
            "Yes, there is at least one match!\n"
          ]
        }
      ]
    }
  ]
}
