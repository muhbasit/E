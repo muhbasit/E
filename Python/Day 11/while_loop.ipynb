{
  "nbformat": 4,
  "nbformat_minor": 0,
  "metadata": {
    "colab": {
      "provenance": [],
      "authorship_tag": "ABX9TyPEynl6FpXK+E2OGStYLc/E",
      "include_colab_link": true
    },
    "kernelspec": {
      "name": "python3",
      "display_name": "Python 3"
    },
    "language_info": {
      "name": "python"
    }
  },
  "cells": [
    {
      "cell_type": "markdown",
      "metadata": {
        "id": "view-in-github",
        "colab_type": "text"
      },
      "source": [
        "<a href=\"https://colab.research.google.com/github/muhbasit/E/blob/main/while_loop.ipynb\" target=\"_parent\"><img src=\"https://colab.research.google.com/assets/colab-badge.svg\" alt=\"Open In Colab\"/></a>"
      ]
    },
    {
      "cell_type": "code",
      "execution_count": 8,
      "metadata": {
        "colab": {
          "base_uri": "https://localhost:8080/"
        },
        "id": "h_yJXKkLYnbJ",
        "outputId": "6ee96f49-a277-4c8d-a954-6bdda553ce37"
      },
      "outputs": [
        {
          "output_type": "stream",
          "name": "stdout",
          "text": [
            "1\n",
            "2\n",
            "3\n",
            "4\n",
            "5\n"
          ]
        }
      ],
      "source": [
        "i = 1\n",
        "while i < 6:\n",
        "  print(i)\n",
        "  i += 1"
      ]
    },
    {
      "cell_type": "code",
      "source": [
        "i = 1\n",
        "while i < 6:\n",
        "  j = 1\n",
        "  while j <= i:\n",
        "     print(j)\n",
        "     j += 1\n",
        "  i += 1"
      ],
      "metadata": {
        "colab": {
          "base_uri": "https://localhost:8080/"
        },
        "id": "ixfz3eKfZcge",
        "outputId": "5f127ccf-787a-410b-87ab-b7a8d21c2521"
      },
      "execution_count": 14,
      "outputs": [
        {
          "output_type": "stream",
          "name": "stdout",
          "text": [
            "1\n",
            "1\n",
            "2\n",
            "1\n",
            "2\n",
            "3\n",
            "1\n",
            "2\n",
            "3\n",
            "4\n",
            "1\n",
            "2\n",
            "3\n",
            "4\n",
            "5\n"
          ]
        }
      ]
    },
    {
      "cell_type": "code",
      "source": [
        "# Using a while loop to calculate the sum of numbers from 1 to 100\n",
        "total = 0\n",
        "num = 1\n",
        "while num <= 100:\n",
        "    total += num\n",
        "    num += 1\n",
        "print(\"Sum:\", total)"
      ],
      "metadata": {
        "colab": {
          "base_uri": "https://localhost:8080/"
        },
        "id": "BAneTt3mZ8Wo",
        "outputId": "ab86022a-7d89-4729-9f61-e3d407820b86"
      },
      "execution_count": 15,
      "outputs": [
        {
          "output_type": "stream",
          "name": "stdout",
          "text": [
            "Sum: 5050\n"
          ]
        }
      ]
    },
    {
      "cell_type": "code",
      "source": [
        "# Drawing a right triangle pattern using while loop\n",
        "size = 5\n",
        "i = 1\n",
        "while i <= size:\n",
        "    j = 1\n",
        "    while j <= i:\n",
        "        print(\"*\", end=\"\")\n",
        "        j += 1\n",
        "    print()\n",
        "    i += 1"
      ],
      "metadata": {
        "colab": {
          "base_uri": "https://localhost:8080/"
        },
        "id": "6AZkG2VPaJXU",
        "outputId": "ddf4c6b3-c41b-45c4-9fb5-fdf47ca08548"
      },
      "execution_count": 16,
      "outputs": [
        {
          "output_type": "stream",
          "name": "stdout",
          "text": [
            "*\n",
            "**\n",
            "***\n",
            "****\n",
            "*****\n"
          ]
        }
      ]
    },
    {
      "cell_type": "code",
      "source": [
        "# Drawing a right triangle pattern using while loop\n",
        "size = 5\n",
        "i = 1\n",
        "while i <= size:\n",
        "    j = 1\n",
        "    while j <= i:\n",
        "        print(j, end=\"\")\n",
        "        j += 1\n",
        "    print()\n",
        "    i += 1"
      ],
      "metadata": {
        "colab": {
          "base_uri": "https://localhost:8080/"
        },
        "id": "5l7WjR0SaLIH",
        "outputId": "b21457c9-18d2-4fcf-ec39-a72956ecf6a4"
      },
      "execution_count": 18,
      "outputs": [
        {
          "output_type": "stream",
          "name": "stdout",
          "text": [
            "1\n",
            "12\n",
            "123\n",
            "1234\n",
            "12345\n"
          ]
        }
      ]
    },
    {
      "cell_type": "code",
      "source": [
        "# Drawing a right triangle pattern using while loop\n",
        "size = 5\n",
        "i = 1\n",
        "while i <= size:\n",
        "    j = 1\n",
        "    while j <= size:\n",
        "        print(\"*\", end=\"\")\n",
        "        j += 1\n",
        "    print()\n",
        "    i += 1"
      ],
      "metadata": {
        "colab": {
          "base_uri": "https://localhost:8080/"
        },
        "id": "VgGffN66aUs7",
        "outputId": "ceeee56c-29bc-4884-da31-93e622d762f4"
      },
      "execution_count": 19,
      "outputs": [
        {
          "output_type": "stream",
          "name": "stdout",
          "text": [
            "*****\n",
            "*****\n",
            "*****\n",
            "*****\n",
            "*****\n"
          ]
        }
      ]
    },
    {
      "cell_type": "code",
      "source": [
        "# Drawing a right triangle pattern using while loop\n",
        "size = 5\n",
        "i = 1\n",
        "while i <= size:\n",
        "    j = 1\n",
        "    while j <= i:\n",
        "        print(i, end=\"\")\n",
        "        j += 1\n",
        "    print()\n",
        "    i += 1"
      ],
      "metadata": {
        "colab": {
          "base_uri": "https://localhost:8080/"
        },
        "id": "VPgn_xUBacIw",
        "outputId": "af073d61-9e63-4b58-a2f3-eaf246fa4e07"
      },
      "execution_count": 32,
      "outputs": [
        {
          "output_type": "stream",
          "name": "stdout",
          "text": [
            "1\n",
            "22\n",
            "333\n",
            "4444\n",
            "55555\n"
          ]
        }
      ]
    },
    {
      "cell_type": "code",
      "source": [
        "# Drawing the word \"BABA\" using while loop\n",
        "i = 1\n",
        "while i <= 5:\n",
        "    j = 1\n",
        "    while j <= i:\n",
        "        print(j, end=\"\")\n",
        "        j += 1\n",
        "    print()\n",
        "    i += 1\n",
        "\n",
        "i = 1\n",
        "while i <= 4:\n",
        "    j = 1\n",
        "    while j <= 5 - i:\n",
        "        print(j, end=\"\")\n",
        "        j += 1\n",
        "    print()\n",
        "    i += 1"
      ],
      "metadata": {
        "colab": {
          "base_uri": "https://localhost:8080/"
        },
        "id": "TwApcEBHbLYv",
        "outputId": "0b797c05-0103-46bc-9be8-65900a30acab"
      },
      "execution_count": 27,
      "outputs": [
        {
          "output_type": "stream",
          "name": "stdout",
          "text": [
            "1\n",
            "12\n",
            "123\n",
            "1234\n",
            "12345\n",
            "1234\n",
            "123\n",
            "12\n",
            "1\n"
          ]
        }
      ]
    }
  ]
}
