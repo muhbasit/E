{
  "nbformat": 4,
  "nbformat_minor": 0,
  "metadata": {
    "colab": {
      "provenance": [],
      "authorship_tag": "ABX9TyNwpmDiIcGPcTe85HaZ01rt",
      "include_colab_link": true
    },
    "kernelspec": {
      "name": "python3",
      "display_name": "Python 3"
    },
    "language_info": {
      "name": "python"
    }
  },
  "cells": [
    {
      "cell_type": "markdown",
      "metadata": {
        "id": "view-in-github",
        "colab_type": "text"
      },
      "source": [
        "<a href=\"https://colab.research.google.com/github/muhbasit/E/blob/main/if_else.ipynb\" target=\"_parent\"><img src=\"https://colab.research.google.com/assets/colab-badge.svg\" alt=\"Open In Colab\"/></a>"
      ]
    },
    {
      "cell_type": "code",
      "execution_count": 1,
      "metadata": {
        "id": "IeCha7WYRGQb"
      },
      "outputs": [],
      "source": [
        "a = 23\n",
        "b = 2"
      ]
    },
    {
      "cell_type": "code",
      "source": [
        "if (a>b):\n",
        "  print(True)"
      ],
      "metadata": {
        "colab": {
          "base_uri": "https://localhost:8080/"
        },
        "id": "I5d7dwCGRbc1",
        "outputId": "7c57e573-f0ec-41b0-a66d-2f9739d64f1e"
      },
      "execution_count": 3,
      "outputs": [
        {
          "output_type": "stream",
          "name": "stdout",
          "text": [
            "True\n"
          ]
        }
      ]
    },
    {
      "cell_type": "code",
      "source": [
        "marks = int(input('Enter your marks: '))\n",
        "\n",
        "if (marks<0 or marks>100):\n",
        "  print(\"Invalid marks (0-100): \")\n",
        "\n",
        "elif (marks<=100 and marks>=90):\n",
        "  print(\"Grade A+\")\n",
        "\n",
        "elif (marks<90 and marks>=80):\n",
        "  print(\"Grade A\")\n",
        "\n",
        "elif (marks<80 and marks>=70):\n",
        "  print(\"Grade B\")\n",
        "\n",
        "elif (marks<70 and marks>=60):\n",
        "  print(\"Grade C\")\n",
        "\n",
        "elif (marks<60 and marks>=50):\n",
        "  print(\"Grade D\")\n",
        "\n",
        "elif (marks<50 and marks>=40):\n",
        "  print(\"Grade E\")\n",
        "\n",
        "elif (marks<40):\n",
        "  print(\"Grade F, Fail\")\n",
        "\n",
        "else:\n",
        "  print()"
      ],
      "metadata": {
        "colab": {
          "base_uri": "https://localhost:8080/"
        },
        "id": "zn1fJUcGRihq",
        "outputId": "0a891416-facb-4d0f-faf7-a2c3ea963b23"
      },
      "execution_count": 12,
      "outputs": [
        {
          "output_type": "stream",
          "name": "stdout",
          "text": [
            "Enter your marks: -2\n",
            "Invalid marks (0-100): \n"
          ]
        }
      ]
    },
    {
      "cell_type": "code",
      "source": [
        "x = 10\n",
        "if x > 0:\n",
        "    if x % 2 == 0:\n",
        "        print(\"Positive even number\")\n",
        "    else:\n",
        "        print(\"Positive odd number\")\n",
        "else:\n",
        "    print(\"Non-positive number\")"
      ],
      "metadata": {
        "colab": {
          "base_uri": "https://localhost:8080/"
        },
        "id": "vQOcfdGMXfuE",
        "outputId": "ab6b4c24-0637-47ad-d316-b62e9d492c49"
      },
      "execution_count": 13,
      "outputs": [
        {
          "output_type": "stream",
          "name": "stdout",
          "text": [
            "Positive even number\n"
          ]
        }
      ]
    },
    {
      "cell_type": "code",
      "source": [
        "# Simulating a decision tree using if-else statements\n",
        "\n",
        "age = 25\n",
        "income = 60000\n",
        "credit_score = 750\n",
        "\n",
        "# Decision tree for loan approval\n",
        "if age >= 18:\n",
        "    if income >= 50000:\n",
        "        if credit_score >= 700:\n",
        "            decision = \"Loan Approved\"\n",
        "        else:\n",
        "            decision = \"Loan Denied (low credit score)\"\n",
        "    else:\n",
        "        decision = \"Loan Denied (low income)\"\n",
        "else:\n",
        "    decision = \"Loan Denied (underage)\"\n",
        "\n",
        "print(decision)"
      ],
      "metadata": {
        "colab": {
          "base_uri": "https://localhost:8080/"
        },
        "id": "LVBud-3DXtvi",
        "outputId": "6ee121e7-0683-473d-815d-e88a6c596eaf"
      },
      "execution_count": 14,
      "outputs": [
        {
          "output_type": "stream",
          "name": "stdout",
          "text": [
            "Loan Approved\n"
          ]
        }
      ]
    },
    {
      "cell_type": "code",
      "source": [
        "\n",
        "\n",
        "# Simulating a basic login system using if-else statements\n",
        "\n",
        "# Predefined username and password\n",
        "correct_username = \"user123\"\n",
        "correct_password = \"password123\"\n",
        "\n",
        "# User input for username and password\n",
        "input_username = input(\"Enter your username: \")\n",
        "input_password = input(\"Enter your password: \")\n",
        "\n",
        "# Check if the entered username and password are correct\n",
        "if input_username == correct_username and input_password == correct_password:\n",
        "    print(\"Login successful! Welcome to the website.\")\n",
        "else:\n",
        "    print(\"Login failed. Incorrect username or password.\")"
      ],
      "metadata": {
        "colab": {
          "base_uri": "https://localhost:8080/"
        },
        "id": "hZ9EIaQhX-kL",
        "outputId": "9c81a02e-2765-46c3-b27e-0d13e41c74b2"
      },
      "execution_count": 15,
      "outputs": [
        {
          "output_type": "stream",
          "name": "stdout",
          "text": [
            "Enter your username: Ghj\n",
            "Enter your password: Ghh\n",
            "Login failed. Incorrect username or password.\n"
          ]
        }
      ]
    }
  ]
}
