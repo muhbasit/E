{
  "nbformat": 4,
  "nbformat_minor": 0,
  "metadata": {
    "colab": {
      "provenance": [],
      "authorship_tag": "ABX9TyNRAF/YSHwmkzgCqQ0GfCi7",
      "include_colab_link": true
    },
    "kernelspec": {
      "name": "python3",
      "display_name": "Python 3"
    },
    "language_info": {
      "name": "python"
    }
  },
  "cells": [
    {
      "cell_type": "markdown",
      "metadata": {
        "id": "view-in-github",
        "colab_type": "text"
      },
      "source": [
        "<a href=\"https://colab.research.google.com/github/muhbasit/E/blob/main/file2.ipynb\" target=\"_parent\"><img src=\"https://colab.research.google.com/assets/colab-badge.svg\" alt=\"Open In Colab\"/></a>"
      ]
    },
    {
      "cell_type": "markdown",
      "source": [
        "#Python File Write\n",
        "##Write to an Existing File\n",
        "To write to an existing file, you must add a parameter to the open() function:\n",
        "\n",
        "\"a\" - Append - will append to the end of the file\n",
        "\n",
        "\"w\" - Write - will overwrite any existing content"
      ],
      "metadata": {
        "id": "BaU3vatUoDL2"
      }
    },
    {
      "cell_type": "code",
      "execution_count": 1,
      "metadata": {
        "colab": {
          "base_uri": "https://localhost:8080/"
        },
        "id": "cWf9TkfcoBcf",
        "outputId": "446835d5-54e4-44dc-b6f0-f4d2c3b5bd26"
      },
      "outputs": [
        {
          "output_type": "stream",
          "name": "stdout",
          "text": [
            "Now the file has more content!\n"
          ]
        }
      ],
      "source": [
        "f = open(\"demofile2.txt\", \"a\")\n",
        "f.write(\"Now the file has more content!\")\n",
        "f.close()\n",
        "\n",
        "#open and read the file after the appending:\n",
        "f = open(\"demofile2.txt\", \"r\")\n",
        "print(f.read())"
      ]
    },
    {
      "cell_type": "code",
      "source": [
        "f = open(\"demofile3.txt\", \"w\")\n",
        "f.write(\"Woops! I have deleted the content!\")\n",
        "f.close()\n",
        "\n",
        "#open and read the file after the overwriting:\n",
        "f = open(\"demofile3.txt\", \"r\")\n",
        "print(f.read())"
      ],
      "metadata": {
        "colab": {
          "base_uri": "https://localhost:8080/"
        },
        "id": "PN3pZGEeoPBm",
        "outputId": "4f00a087-d4ab-4b32-8a0b-6bb546889135"
      },
      "execution_count": 2,
      "outputs": [
        {
          "output_type": "stream",
          "name": "stdout",
          "text": [
            "Woops! I have deleted the content!\n"
          ]
        }
      ]
    },
    {
      "cell_type": "markdown",
      "source": [
        "##Create a New File\n",
        "To create a new file in Python, use the open() method, with one of the following parameters:\n",
        "\n",
        "\"x\" - Create - will create a file, returns an error if the file exist\n",
        "\n",
        "\"a\" - Append - will create a file if the specified file does not exist\n",
        "\n",
        "\"w\" - Write - will create a file if the specified file does not exist\n",
        "Create a file called \"myfile.txt\":\n",
        "\n",
        "f = open(\"myfile.txt\", \"x\")"
      ],
      "metadata": {
        "id": "7ZB5jG88oaii"
      }
    }
  ]
}
