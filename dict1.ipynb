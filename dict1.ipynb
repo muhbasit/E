{
  "nbformat": 4,
  "nbformat_minor": 0,
  "metadata": {
    "colab": {
      "provenance": [],
      "authorship_tag": "ABX9TyMC+c2KFA+nXAQfSmaZNNUm",
      "include_colab_link": true
    },
    "kernelspec": {
      "name": "python3",
      "display_name": "Python 3"
    },
    "language_info": {
      "name": "python"
    }
  },
  "cells": [
    {
      "cell_type": "markdown",
      "metadata": {
        "id": "view-in-github",
        "colab_type": "text"
      },
      "source": [
        "<a href=\"https://colab.research.google.com/github/muhbasit/E/blob/main/dict1.ipynb\" target=\"_parent\"><img src=\"https://colab.research.google.com/assets/colab-badge.svg\" alt=\"Open In Colab\"/></a>"
      ]
    },
    {
      "cell_type": "code",
      "execution_count": 1,
      "metadata": {
        "colab": {
          "base_uri": "https://localhost:8080/"
        },
        "id": "4fR-ya-nQQA1",
        "outputId": "65a2323c-334a-4afa-9d0b-430465d6b79a"
      },
      "outputs": [
        {
          "output_type": "stream",
          "name": "stdout",
          "text": [
            "{'apple': 3, 'banana': 3, 'cherry': 1}\n"
          ]
        }
      ],
      "source": [
        "fruits = [\"apple\", \"banana\", \"apple\", \"cherry\", \"banana\", \"apple\", \"banana\"]\n",
        "fruit_count = {}\n",
        "\n",
        "for fruit in fruits:\n",
        "    fruit_count[fruit] = fruit_count.get(fruit, 0) + 1\n",
        "\n",
        "print(fruit_count)  # Output: {'apple': 3, 'banana': 3, 'cherry': 1}"
      ]
    },
    {
      "cell_type": "code",
      "source": [
        "students = [\n",
        "    {\"name\": \"Alice\", \"age\": 20},\n",
        "    {\"name\": \"Bob\", \"age\": 22},\n",
        "    {\"name\": \"Charlie\", \"age\": 20}\n",
        "]\n",
        "\n",
        "students_by_age = {}\n",
        "\n",
        "for student in students:\n",
        "    age = student[\"age\"]\n",
        "    if age not in students_by_age:\n",
        "        students_by_age[age] = []\n",
        "    students_by_age[age].append(student[\"name\"])\n",
        "\n",
        "print(students_by_age)\n",
        "# Output: {20: ['Alice', 'Charlie'], 22: ['Bob']}"
      ],
      "metadata": {
        "colab": {
          "base_uri": "https://localhost:8080/"
        },
        "id": "WmbeLadMQSjV",
        "outputId": "6f60662c-9490-4ff4-c997-fc13f5a36ab3"
      },
      "execution_count": 2,
      "outputs": [
        {
          "output_type": "stream",
          "name": "stdout",
          "text": [
            "{20: ['Alice', 'Charlie'], 22: ['Bob']}\n"
          ]
        }
      ]
    },
    {
      "cell_type": "code",
      "source": [
        "dict1 = {\"a\": 1, \"b\": 2}\n",
        "dict2 = {\"b\": 3, \"c\": 4}\n",
        "\n",
        "merged_dict = {**dict1, **dict2}\n",
        "print(merged_dict)  # Output: {'a': 1, 'b': 3, 'c': 4}"
      ],
      "metadata": {
        "colab": {
          "base_uri": "https://localhost:8080/"
        },
        "id": "T69MyNdXQVDY",
        "outputId": "55fc90af-77be-401f-a877-2fe4c37bcd40"
      },
      "execution_count": 3,
      "outputs": [
        {
          "output_type": "stream",
          "name": "stdout",
          "text": [
            "{'a': 1, 'b': 3, 'c': 4}\n"
          ]
        }
      ]
    },
    {
      "cell_type": "code",
      "source": [
        "from collections import defaultdict\n",
        "\n",
        "word_lengths = defaultdict(int)\n",
        "text = \"This is a sample text containing words.\"\n",
        "\n",
        "for word in text.split():\n",
        "    word_lengths[word] = len(word)\n",
        "\n",
        "print(word_lengths)\n",
        "# Output: defaultdict(<class 'int'>, {'This': 4, 'is': 2, 'a': 1, 'sample': 6, 'text': 4, 'containing': 10, 'words.': 6})"
      ],
      "metadata": {
        "colab": {
          "base_uri": "https://localhost:8080/"
        },
        "id": "Bye1dDUEQXz4",
        "outputId": "77cf34ce-050f-4a97-e4aa-e7df540c320d"
      },
      "execution_count": 4,
      "outputs": [
        {
          "output_type": "stream",
          "name": "stdout",
          "text": [
            "defaultdict(<class 'int'>, {'This': 4, 'is': 2, 'a': 1, 'sample': 6, 'text': 4, 'containing': 10, 'words.': 6})\n"
          ]
        }
      ]
    }
  ]
}