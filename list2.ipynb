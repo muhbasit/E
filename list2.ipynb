{
  "nbformat": 4,
  "nbformat_minor": 0,
  "metadata": {
    "colab": {
      "provenance": [],
      "authorship_tag": "ABX9TyNbxitlRkz+/uLlyY5rRV1Q",
      "include_colab_link": true
    },
    "kernelspec": {
      "name": "python3",
      "display_name": "Python 3"
    },
    "language_info": {
      "name": "python"
    }
  },
  "cells": [
    {
      "cell_type": "markdown",
      "metadata": {
        "id": "view-in-github",
        "colab_type": "text"
      },
      "source": [
        "<a href=\"https://colab.research.google.com/github/muhbasit/E/blob/main/list2.ipynb\" target=\"_parent\"><img src=\"https://colab.research.google.com/assets/colab-badge.svg\" alt=\"Open In Colab\"/></a>"
      ]
    },
    {
      "cell_type": "markdown",
      "source": [
        "# List\n",
        "\n",
        "## Loop List"
      ],
      "metadata": {
        "id": "89d56l5gKs1g"
      }
    },
    {
      "cell_type": "markdown",
      "source": [
        "### Loop Through List\n",
        "\n",
        "You can loop through the list items by using a for loop:"
      ],
      "metadata": {
        "id": "xkT3fyyeKxUM"
      }
    },
    {
      "cell_type": "code",
      "execution_count": 1,
      "metadata": {
        "id": "i6lVJ-EkHX-E"
      },
      "outputs": [],
      "source": [
        "data = [2,4,4,5,5,7,8,8,9]"
      ]
    },
    {
      "cell_type": "code",
      "source": [
        "for i in data:\n",
        "  print(i)"
      ],
      "metadata": {
        "colab": {
          "base_uri": "https://localhost:8080/"
        },
        "id": "trmv5kmBK9eC",
        "outputId": "ba0dbc0d-04ea-4b0d-ec07-0859ebdcef3e"
      },
      "execution_count": 2,
      "outputs": [
        {
          "output_type": "stream",
          "name": "stdout",
          "text": [
            "2\n",
            "4\n",
            "4\n",
            "5\n",
            "5\n",
            "7\n",
            "8\n",
            "8\n",
            "9\n"
          ]
        }
      ]
    },
    {
      "cell_type": "markdown",
      "source": [
        "### Loop Through Index Number\n",
        "\n",
        "You can also loop through the list items by referring to their index number.\n",
        "\n",
        "Use the range() and len() functions to create a suitable iterable."
      ],
      "metadata": {
        "id": "6gBJkvYwLFuH"
      }
    },
    {
      "cell_type": "code",
      "source": [
        "for i in range(len(data)):\n",
        "  print(data[i])"
      ],
      "metadata": {
        "colab": {
          "base_uri": "https://localhost:8080/"
        },
        "id": "DQjVylLrLCWp",
        "outputId": "8ee21bd3-2ef0-46c5-b3cd-8fac2be74aaa"
      },
      "execution_count": 4,
      "outputs": [
        {
          "output_type": "stream",
          "name": "stdout",
          "text": [
            "2\n",
            "4\n",
            "4\n",
            "5\n",
            "5\n",
            "7\n",
            "8\n",
            "8\n",
            "9\n"
          ]
        }
      ]
    },
    {
      "cell_type": "markdown",
      "source": [
        "### Using While Loop\n",
        "\n",
        "You can loop through the list items by using a while loop.\n",
        "\n",
        "Use the len() function to determine the length of the list, then start at 0 and loop your way through the list items by referring to their indexes.\n",
        "\n",
        "Remember to increase the index by 1 after each iteration."
      ],
      "metadata": {
        "id": "o6Ir3cZNLeUe"
      }
    },
    {
      "cell_type": "code",
      "source": [
        "i = 0\n",
        "while(i < len(data)):\n",
        "  print(data[i])\n",
        "  i += 1"
      ],
      "metadata": {
        "colab": {
          "base_uri": "https://localhost:8080/"
        },
        "id": "k64nVx-WLhsw",
        "outputId": "38a49b1f-3f46-4cf2-a715-946a887a3657"
      },
      "execution_count": 8,
      "outputs": [
        {
          "output_type": "stream",
          "name": "stdout",
          "text": [
            "2\n",
            "4\n",
            "4\n",
            "5\n",
            "5\n",
            "7\n",
            "8\n",
            "8\n",
            "9\n"
          ]
        }
      ]
    },
    {
      "cell_type": "markdown",
      "source": [
        "### Looping using List Comparison\n",
        "\n",
        "List Comprehension offers the shortest syntax for looping through lists:"
      ],
      "metadata": {
        "id": "HSkuXCFwMDNh"
      }
    },
    {
      "cell_type": "code",
      "source": [
        "[print(i) for i in data]"
      ],
      "metadata": {
        "colab": {
          "base_uri": "https://localhost:8080/"
        },
        "id": "O4HTxXtMMH--",
        "outputId": "a94172b7-ed7a-4ba4-9c9f-b0461d263ad6"
      },
      "execution_count": 11,
      "outputs": [
        {
          "output_type": "stream",
          "name": "stdout",
          "text": [
            "2\n",
            "4\n",
            "4\n",
            "5\n",
            "5\n",
            "7\n",
            "8\n",
            "8\n",
            "9\n"
          ]
        },
        {
          "output_type": "execute_result",
          "data": {
            "text/plain": [
              "[None, None, None, None, None, None, None, None, None]"
            ]
          },
          "metadata": {},
          "execution_count": 11
        }
      ]
    },
    {
      "cell_type": "markdown",
      "source": [
        "## List Comprehension\n",
        "\n",
        "List comprehension offers a shorter syntax when you want to create a new list based on the values of an existing list.\n",
        "\n",
        "Example:\n",
        "\n",
        "Based on a list of fruits, you want a new list, containing only the fruits with the letter \"a\" in the name.\n",
        "\n",
        "Without list comprehension you will have to write a for statement with a conditional test inside:"
      ],
      "metadata": {
        "id": "VDW1bTokM4UV"
      }
    },
    {
      "cell_type": "markdown",
      "source": [
        "\n",
        "## Syntax\n",
        "\n",
        "list = [expression for item in iterable if condition == True]"
      ],
      "metadata": {
        "id": "ChavVpMyQNmS"
      }
    },
    {
      "cell_type": "code",
      "source": [
        "fruits = [\"apple\", \"banana\", \"cherry\", \"kiwi\", \"mango\"]\n",
        "newlist = []\n",
        "\n",
        "for x in fruits:\n",
        "  if \"a\" in x:\n",
        "    newlist.append(x)\n",
        "\n",
        "print(newlist)"
      ],
      "metadata": {
        "colab": {
          "base_uri": "https://localhost:8080/"
        },
        "id": "YAvcEU8vM7PB",
        "outputId": "8482ca66-5eac-4c11-d3bc-c3f064b6d32f"
      },
      "execution_count": 12,
      "outputs": [
        {
          "output_type": "stream",
          "name": "stdout",
          "text": [
            "['apple', 'banana', 'mango']\n"
          ]
        }
      ]
    },
    {
      "cell_type": "code",
      "source": [
        "fruits = [\"apple\", \"banana\", \"cherry\", \"kiwi\", \"mango\"]\n",
        "\n",
        "newlist = [x for x in fruits if \"a\" in x]\n",
        "\n",
        "print(newlist)"
      ],
      "metadata": {
        "colab": {
          "base_uri": "https://localhost:8080/"
        },
        "id": "PgvUU814Nant",
        "outputId": "a91c81f8-a9d8-4df4-cd93-59e334f6825d"
      },
      "execution_count": 14,
      "outputs": [
        {
          "output_type": "stream",
          "name": "stdout",
          "text": [
            "['apple', 'banana', 'mango']\n"
          ]
        }
      ]
    },
    {
      "cell_type": "code",
      "source": [
        "fr = [i.upper for i in fruits]\n",
        "print(fr)"
      ],
      "metadata": {
        "colab": {
          "base_uri": "https://localhost:8080/"
        },
        "id": "m2N5y3O8PGS_",
        "outputId": "7a3afb93-4592-4fd7-c1db-90c5b493bc62"
      },
      "execution_count": 27,
      "outputs": [
        {
          "output_type": "stream",
          "name": "stdout",
          "text": [
            "[<built-in method upper of str object at 0x7b687df77a70>, <built-in method upper of str object at 0x7b687df77a30>, <built-in method upper of str object at 0x7b687df779b0>, <built-in method upper of str object at 0x7b687ecb50f0>, <built-in method upper of str object at 0x7b687df77f70>]\n"
          ]
        }
      ]
    },
    {
      "cell_type": "code",
      "source": [
        "fo = [i if i==\"apple\" else \"orange\" for i in fruits]\n",
        "print(fo)"
      ],
      "metadata": {
        "colab": {
          "base_uri": "https://localhost:8080/"
        },
        "id": "tqMgpbNLPV49",
        "outputId": "6da36232-314a-4575-a7b6-f7b4005924d2"
      },
      "execution_count": 34,
      "outputs": [
        {
          "output_type": "stream",
          "name": "stdout",
          "text": [
            "['apple', 'orange', 'orange', 'orange', 'orange']\n"
          ]
        }
      ]
    },
    {
      "cell_type": "code",
      "source": [
        "fo = [i if i!=\"apple\" else \"orange\" for i in fruits]\n",
        "print(fo)"
      ],
      "metadata": {
        "colab": {
          "base_uri": "https://localhost:8080/"
        },
        "id": "tpjABYy3QDkE",
        "outputId": "ae5d4c5a-c0f5-4d53-acd5-4f9a99fc5389"
      },
      "execution_count": 35,
      "outputs": [
        {
          "output_type": "stream",
          "name": "stdout",
          "text": [
            "['orange', 'banana', 'cherry', 'kiwi', 'mango']\n"
          ]
        }
      ]
    },
    {
      "cell_type": "code",
      "source": [
        "y = []\n",
        "for i in data:\n",
        "  y.append(i)\n",
        "\n",
        "print(y)"
      ],
      "metadata": {
        "colab": {
          "base_uri": "https://localhost:8080/"
        },
        "id": "IhFte90VNIMx",
        "outputId": "eaed62ba-1d9c-4704-afd9-590a81d511a7"
      },
      "execution_count": 13,
      "outputs": [
        {
          "output_type": "stream",
          "name": "stdout",
          "text": [
            "[2, 4, 4, 5, 5, 7, 8, 8, 9]\n"
          ]
        }
      ]
    },
    {
      "cell_type": "code",
      "source": [
        "y = [i for i in data]\n",
        "print(y)"
      ],
      "metadata": {
        "colab": {
          "base_uri": "https://localhost:8080/"
        },
        "id": "v5HzNBSdNh_6",
        "outputId": "2273fa14-9c22-409a-9577-8921f8b931e4"
      },
      "execution_count": 15,
      "outputs": [
        {
          "output_type": "stream",
          "name": "stdout",
          "text": [
            "[2, 4, 4, 5, 5, 7, 8, 8, 9]\n"
          ]
        }
      ]
    },
    {
      "cell_type": "code",
      "source": [
        "z = [(i, i) for i in data]\n",
        "print(z)"
      ],
      "metadata": {
        "colab": {
          "base_uri": "https://localhost:8080/"
        },
        "id": "nJEtO-b-NvS3",
        "outputId": "b52f8a95-2244-4c0f-964b-593da2a7ae25"
      },
      "execution_count": 17,
      "outputs": [
        {
          "output_type": "stream",
          "name": "stdout",
          "text": [
            "[(2, 2), (4, 4), (4, 4), (5, 5), (5, 5), (7, 7), (8, 8), (8, 8), (9, 9)]\n"
          ]
        }
      ]
    },
    {
      "cell_type": "code",
      "source": [
        "w = [(i,i**2,i**3) for i in data]\n",
        "print(w)"
      ],
      "metadata": {
        "colab": {
          "base_uri": "https://localhost:8080/"
        },
        "id": "Raqa4lZwN66Z",
        "outputId": "398bafe7-187a-478f-db9d-524f0508a178"
      },
      "execution_count": 18,
      "outputs": [
        {
          "output_type": "stream",
          "name": "stdout",
          "text": [
            "[(2, 4, 8), (4, 16, 64), (4, 16, 64), (5, 25, 125), (5, 25, 125), (7, 49, 343), (8, 64, 512), (8, 64, 512), (9, 81, 729)]\n"
          ]
        }
      ]
    },
    {
      "cell_type": "code",
      "source": [
        "v = [(i,i**2,i**3, i**4) for i in data]\n",
        "print(v)"
      ],
      "metadata": {
        "colab": {
          "base_uri": "https://localhost:8080/"
        },
        "id": "I4CZL6U1ONkL",
        "outputId": "022ae5c0-8ce5-471e-c7e4-dbc28a48356f"
      },
      "execution_count": 19,
      "outputs": [
        {
          "output_type": "stream",
          "name": "stdout",
          "text": [
            "[(2, 4, 8, 16), (4, 16, 64, 256), (4, 16, 64, 256), (5, 25, 125, 625), (5, 25, 125, 625), (7, 49, 343, 2401), (8, 64, 512, 4096), (8, 64, 512, 4096), (9, 81, 729, 6561)]\n"
          ]
        }
      ]
    },
    {
      "cell_type": "code",
      "source": [
        "u = [(i, i**i) for i in data]\n",
        "print(u)"
      ],
      "metadata": {
        "colab": {
          "base_uri": "https://localhost:8080/"
        },
        "id": "hb9jSV4UOT4_",
        "outputId": "0ccbe63d-a6b3-4270-e0c7-667b0e45286b"
      },
      "execution_count": 25,
      "outputs": [
        {
          "output_type": "stream",
          "name": "stdout",
          "text": [
            "[(2, 4), (4, 256), (4, 256), (5, 3125), (5, 3125), (7, 823543), (8, 16777216), (8, 16777216), (9, 387420489)]\n"
          ]
        }
      ]
    },
    {
      "cell_type": "markdown",
      "source": [
        "## Sort List\n",
        "\n",
        "List objects have a sort() method that will sort the list alphanumerically, ascending, by default:"
      ],
      "metadata": {
        "id": "4lD7sXDOQvfr"
      }
    },
    {
      "cell_type": "code",
      "source": [
        "fruits = [\"apple\", \"kiwi\", \"banana\", \"cherry\", \"mango\"]\n",
        "fruits.sort()\n",
        "print(fruits)"
      ],
      "metadata": {
        "colab": {
          "base_uri": "https://localhost:8080/"
        },
        "id": "9sTr-4N8PEeO",
        "outputId": "0e2b490f-2d95-459e-e71b-5e82f47adf24"
      },
      "execution_count": 43,
      "outputs": [
        {
          "output_type": "stream",
          "name": "stdout",
          "text": [
            "['apple', 'banana', 'cherry', 'kiwi', 'mango']\n"
          ]
        }
      ]
    },
    {
      "cell_type": "code",
      "source": [
        "data.sort()\n",
        "print(data)"
      ],
      "metadata": {
        "colab": {
          "base_uri": "https://localhost:8080/"
        },
        "id": "N5MHZX03RzC_",
        "outputId": "4683c95a-d4dd-4c9b-be27-1ef4e4adb16c"
      },
      "execution_count": 44,
      "outputs": [
        {
          "output_type": "stream",
          "name": "stdout",
          "text": [
            "[2, 4, 4, 5, 5, 7, 8, 8, 9]\n"
          ]
        }
      ]
    },
    {
      "cell_type": "markdown",
      "source": [
        "## Sort Descending\n",
        "\n",
        "To sort descending, use the keyword argument reverse = True:"
      ],
      "metadata": {
        "id": "r2kA4_C7R6w1"
      }
    },
    {
      "cell_type": "code",
      "source": [
        "fruits.sort(reverse = True)\n",
        "print(fruits)"
      ],
      "metadata": {
        "colab": {
          "base_uri": "https://localhost:8080/"
        },
        "id": "WfMsFtUJR-P8",
        "outputId": "302e201a-4777-4973-b28b-af7f1e0324bc"
      },
      "execution_count": 45,
      "outputs": [
        {
          "output_type": "stream",
          "name": "stdout",
          "text": [
            "['mango', 'kiwi', 'cherry', 'banana', 'apple']\n"
          ]
        }
      ]
    },
    {
      "cell_type": "markdown",
      "source": [
        "\n",
        "## Customize Sorting\n",
        "\n",
        "You can also customize your own function by using the keyword argument key = function.\n",
        "\n",
        "The function will return a number that will be used to sort the list (the lowest number first):"
      ],
      "metadata": {
        "id": "PsGyb5UWSLmV"
      }
    },
    {
      "cell_type": "code",
      "source": [
        "def myfunc(n):\n",
        "  return abs(n - 50)\n",
        "\n",
        "data = [100, 50, 65, 82, 23]\n",
        "data.sort(key = myfunc)\n",
        "print(data)"
      ],
      "metadata": {
        "colab": {
          "base_uri": "https://localhost:8080/"
        },
        "id": "srn8UEERSLVZ",
        "outputId": "575813f6-5612-4a88-8cb6-0fce3560b41e"
      },
      "execution_count": 49,
      "outputs": [
        {
          "output_type": "stream",
          "name": "stdout",
          "text": [
            "[50, 65, 23, 82, 100]\n"
          ]
        }
      ]
    },
    {
      "cell_type": "markdown",
      "source": [
        "## List Copy\n",
        "\n",
        "You cannot copy a list simply by typing list2 = list1, because: list2 will only be a reference to list1, and changes made in list1 will automatically also be made in list2.\n",
        "\n",
        "There are ways to make a copy, one way is to use the built-in List method copy()."
      ],
      "metadata": {
        "id": "T2sOBKSnTQwb"
      }
    },
    {
      "cell_type": "code",
      "source": [
        "fruits = [\"apple\", \"kiwi\", \"banana\", \"cherry\", \"mango\"]\n",
        "phal = fruits.copy()\n",
        "print(phal)"
      ],
      "metadata": {
        "colab": {
          "base_uri": "https://localhost:8080/"
        },
        "id": "tATpXHRQTTm0",
        "outputId": "e173215a-c9f4-4aeb-a8c9-3de073168415"
      },
      "execution_count": 51,
      "outputs": [
        {
          "output_type": "stream",
          "name": "stdout",
          "text": [
            "['apple', 'kiwi', 'banana', 'cherry', 'mango']\n"
          ]
        }
      ]
    },
    {
      "cell_type": "code",
      "source": [
        "fr = list(fruits)\n",
        "print(fr)"
      ],
      "metadata": {
        "colab": {
          "base_uri": "https://localhost:8080/"
        },
        "id": "uOi6FGvMTr_3",
        "outputId": "11c235d8-02d5-4bc4-d24c-8623bbecfd93"
      },
      "execution_count": 52,
      "outputs": [
        {
          "output_type": "stream",
          "name": "stdout",
          "text": [
            "['apple', 'kiwi', 'banana', 'cherry', 'mango']\n"
          ]
        }
      ]
    },
    {
      "cell_type": "markdown",
      "source": [
        "## Join 2 lists\n",
        "\n",
        "There are several ways to join, or concatenate, two or more lists in Python.\n",
        "\n",
        "One of the easiest ways are by using the + operator."
      ],
      "metadata": {
        "id": "KHdstenDT2Oi"
      }
    },
    {
      "cell_type": "code",
      "source": [
        "combine = fruits + data\n",
        "print(combine)"
      ],
      "metadata": {
        "colab": {
          "base_uri": "https://localhost:8080/"
        },
        "id": "WEY21yZFT6EY",
        "outputId": "ffe52c47-8548-4ccf-fc2b-a4f9304f5ede"
      },
      "execution_count": 54,
      "outputs": [
        {
          "output_type": "stream",
          "name": "stdout",
          "text": [
            "['apple', 'kiwi', 'banana', 'cherry', 'mango', 50, 65, 23, 82, 100]\n"
          ]
        }
      ]
    },
    {
      "cell_type": "code",
      "source": [
        "data.extend(fruits)\n",
        "print(data)"
      ],
      "metadata": {
        "colab": {
          "base_uri": "https://localhost:8080/"
        },
        "id": "0G_lT-W3ULIT",
        "outputId": "30054454-6d5e-4cdf-f398-dd98b48687d9"
      },
      "execution_count": 56,
      "outputs": [
        {
          "output_type": "stream",
          "name": "stdout",
          "text": [
            "[50, 65, 23, 82, 100, 'apple', 'kiwi', 'banana', 'cherry', 'mango', 'apple', 'kiwi', 'banana', 'cherry', 'mango']\n"
          ]
        }
      ]
    }
  ]
}