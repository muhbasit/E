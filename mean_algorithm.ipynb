{
  "nbformat": 4,
  "nbformat_minor": 0,
  "metadata": {
    "colab": {
      "provenance": [],
      "authorship_tag": "ABX9TyPUsGLJcilrNwR9Efr3vQGc",
      "include_colab_link": true
    },
    "kernelspec": {
      "name": "python3",
      "display_name": "Python 3"
    },
    "language_info": {
      "name": "python"
    }
  },
  "cells": [
    {
      "cell_type": "markdown",
      "metadata": {
        "id": "view-in-github",
        "colab_type": "text"
      },
      "source": [
        "<a href=\"https://colab.research.google.com/github/muhbasit/E/blob/main/mean_algorithm.ipynb\" target=\"_parent\"><img src=\"https://colab.research.google.com/assets/colab-badge.svg\" alt=\"Open In Colab\"/></a>"
      ]
    },
    {
      "cell_type": "code",
      "execution_count": 1,
      "metadata": {
        "id": "uod6e-ZS19Cy"
      },
      "outputs": [],
      "source": [
        "data = [2,4,4,5,5,7,8,8,9]\n",
        "n = len(data)"
      ]
    },
    {
      "cell_type": "code",
      "source": [
        "print(n)"
      ],
      "metadata": {
        "colab": {
          "base_uri": "https://localhost:8080/"
        },
        "id": "XCJnDwVA2Vio",
        "outputId": "7dec665f-efc6-4f9a-c087-c0c446c96346"
      },
      "execution_count": 2,
      "outputs": [
        {
          "output_type": "stream",
          "name": "stdout",
          "text": [
            "9\n"
          ]
        }
      ]
    },
    {
      "cell_type": "code",
      "source": [
        "sum = 0\n",
        "for i in data:\n",
        "   sum = sum + i\n",
        "print(sum)"
      ],
      "metadata": {
        "colab": {
          "base_uri": "https://localhost:8080/"
        },
        "id": "59NqSj8_2ZSj",
        "outputId": "a4b45b66-bf87-422f-d6b2-faf44ae82520"
      },
      "execution_count": 6,
      "outputs": [
        {
          "output_type": "stream",
          "name": "stdout",
          "text": [
            "52\n"
          ]
        }
      ]
    },
    {
      "cell_type": "markdown",
      "source": [
        "## Mean\n",
        "$\\bar{x} = \\frac{1}{n} \\sum_{i=1}^{n} x_i$"
      ],
      "metadata": {
        "id": "Tz1kY07P3TvJ"
      }
    },
    {
      "cell_type": "code",
      "source": [
        "mean = sum / n"
      ],
      "metadata": {
        "id": "tWivkdWl3HXT"
      },
      "execution_count": 7,
      "outputs": []
    },
    {
      "cell_type": "code",
      "source": [
        "print(mean)"
      ],
      "metadata": {
        "colab": {
          "base_uri": "https://localhost:8080/"
        },
        "id": "IEQPpqEX3MBC",
        "outputId": "932bfc9a-4edc-49b4-e234-3cd3ec73579f"
      },
      "execution_count": 10,
      "outputs": [
        {
          "output_type": "stream",
          "name": "stdout",
          "text": [
            "5.777777777777778\n"
          ]
        }
      ]
    }
  ]
}