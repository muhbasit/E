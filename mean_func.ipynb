{
  "nbformat": 4,
  "nbformat_minor": 0,
  "metadata": {
    "colab": {
      "provenance": [],
      "authorship_tag": "ABX9TyN/cAd1N+KJVkXnX9IQCKbj",
      "include_colab_link": true
    },
    "kernelspec": {
      "name": "python3",
      "display_name": "Python 3"
    },
    "language_info": {
      "name": "python"
    }
  },
  "cells": [
    {
      "cell_type": "markdown",
      "metadata": {
        "id": "view-in-github",
        "colab_type": "text"
      },
      "source": [
        "<a href=\"https://colab.research.google.com/github/muhbasit/E/blob/main/mean_func.ipynb\" target=\"_parent\"><img src=\"https://colab.research.google.com/assets/colab-badge.svg\" alt=\"Open In Colab\"/></a>"
      ]
    },
    {
      "cell_type": "code",
      "execution_count": 1,
      "metadata": {
        "id": "Zxjf8bNKcS3t"
      },
      "outputs": [],
      "source": [
        "data = [2,3,4,4,3,5,4,4,5,5,6]"
      ]
    },
    {
      "cell_type": "code",
      "source": [
        "# define function for mean\n",
        "def mean(list):\n",
        "  # calculate number of elements\n",
        "  count = 0\n",
        "  for i in data:\n",
        "    count += 1\n",
        "\n",
        "  # calculate sum\n",
        "  sum = 0\n",
        "  for i in data:\n",
        "    sum += i\n",
        "\n",
        "  # calculate mean\n",
        "  mean = sum/count\n",
        "  return mean"
      ],
      "metadata": {
        "id": "zP0lCffPcdeT"
      },
      "execution_count": 2,
      "outputs": []
    },
    {
      "cell_type": "code",
      "source": [
        "mean = mean(data)\n",
        "print(mean)"
      ],
      "metadata": {
        "colab": {
          "base_uri": "https://localhost:8080/"
        },
        "id": "oQhv2kmkdhgZ",
        "outputId": "bfcc1686-8364-443e-9037-6b4f9d95dd88"
      },
      "execution_count": 3,
      "outputs": [
        {
          "output_type": "stream",
          "name": "stdout",
          "text": [
            "4.090909090909091\n"
          ]
        }
      ]
    }
  ]
}