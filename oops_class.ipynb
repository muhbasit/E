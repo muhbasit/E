{
  "nbformat": 4,
  "nbformat_minor": 0,
  "metadata": {
    "colab": {
      "provenance": [],
      "authorship_tag": "ABX9TyOU/ILT+888EaeSy55QTjSH",
      "include_colab_link": true
    },
    "kernelspec": {
      "name": "python3",
      "display_name": "Python 3"
    },
    "language_info": {
      "name": "python"
    }
  },
  "cells": [
    {
      "cell_type": "markdown",
      "metadata": {
        "id": "view-in-github",
        "colab_type": "text"
      },
      "source": [
        "<a href=\"https://colab.research.google.com/github/muhbasit/E/blob/main/oops_class.ipynb\" target=\"_parent\"><img src=\"https://colab.research.google.com/assets/colab-badge.svg\" alt=\"Open In Colab\"/></a>"
      ]
    },
    {
      "cell_type": "markdown",
      "source": [
        "# Python Classes/Objects\n",
        "\n",
        "Python is an object oriented programming language.\n",
        "\n",
        "Almost everything in Python is an object, with its properties and methods.\n",
        "\n",
        "A Class is like an object constructor, or a \"blueprint\" for creating objects."
      ],
      "metadata": {
        "id": "KyPEKnR-8nDq"
      }
    },
    {
      "cell_type": "code",
      "execution_count": 2,
      "metadata": {
        "id": "5s1rtafU8in8"
      },
      "outputs": [],
      "source": [
        "class MyClass:\n",
        "  x = 5"
      ]
    },
    {
      "cell_type": "code",
      "source": [
        "print(MyClass)\n",
        "print(MyClass.x)"
      ],
      "metadata": {
        "colab": {
          "base_uri": "https://localhost:8080/"
        },
        "id": "FA1TWgsn8yEK",
        "outputId": "c95ccae7-98bf-4b07-f91e-7f7e2d5b7604"
      },
      "execution_count": 7,
      "outputs": [
        {
          "output_type": "stream",
          "name": "stdout",
          "text": [
            "<class '__main__.MyClass'>\n",
            "5\n"
          ]
        }
      ]
    },
    {
      "cell_type": "markdown",
      "source": [
        "## Create class object"
      ],
      "metadata": {
        "id": "pVRKPbjB9N3-"
      }
    },
    {
      "cell_type": "code",
      "source": [
        "class MyClass:\n",
        "  x = 5"
      ],
      "metadata": {
        "id": "yaw1oyIq9CMQ"
      },
      "execution_count": 4,
      "outputs": []
    },
    {
      "cell_type": "code",
      "source": [
        "p1 = MyClass()\n",
        "print(p1.x)"
      ],
      "metadata": {
        "colab": {
          "base_uri": "https://localhost:8080/"
        },
        "id": "Awyi8Q359FEw",
        "outputId": "6bcb2e2d-95fb-4278-880b-35167a76ff2c"
      },
      "execution_count": 6,
      "outputs": [
        {
          "output_type": "stream",
          "name": "stdout",
          "text": [
            "5\n"
          ]
        }
      ]
    },
    {
      "cell_type": "markdown",
      "source": [
        "## The __init__() Function\n",
        "The examples above are classes and objects in their simplest form, and are not really useful in real life applications.\n",
        "\n",
        "To understand the meaning of classes we have to understand the built-in __init__() function.\n",
        "\n",
        "All classes have a function called __init__(), which is always executed when the class is being initiated.\n",
        "\n",
        "Use the __init__() function to assign values to object properties, or other operations that are necessary to do when the object is being created:"
      ],
      "metadata": {
        "id": "p_-6afc39az1"
      }
    },
    {
      "cell_type": "code",
      "source": [
        "class Person:\n",
        "  def __init__(self, name, age):\n",
        "    self.name = name\n",
        "    self.age = age"
      ],
      "metadata": {
        "id": "GDnjp7pO9YuV"
      },
      "execution_count": 8,
      "outputs": []
    },
    {
      "cell_type": "markdown",
      "source": [
        "This Python code defines a simple class named `Person` with a constructor (`__init__`) that initializes two attributes: `name` and `age`. It then creates an instance of the `Person` class, assigns values to its attributes, and prints out the values.\n",
        "\n",
        "Let's break down the code step by step:\n",
        "\n",
        "1. `class Person:`: This line defines a class named `Person`.\n",
        "\n",
        "2. `def __init__(self, name, age):`: This is the constructor method of the `Person` class. It initializes the attributes of the class. The `self` parameter refers to the instance of the class that will be created. The `name` and `age` parameters are used to set the values of the attributes.\n",
        "\n",
        "3. `self.name = name`: This line assigns the value of the `name` parameter to the `name` attribute of the instance.\n",
        "\n",
        "4. `self.age = age`: This line assigns the value of the `age` parameter to the `age` attribute of the instance.\n",
        "\n",
        "5. `p1 = Person(\"John\", 36)`: This line creates an instance of the `Person` class named `p1` and passes the values \"John\" and 36 as arguments to the constructor. This initializes the `name` attribute of `p1` to \"John\" and the `age` attribute to 36.\n",
        "\n",
        "6. `print(p1.name)`: This line prints the value of the `name` attribute of the `p1` instance, which is \"John\".\n",
        "\n",
        "7. `print(p1.age)`: This line prints the value of the `age` attribute of the `p1` instance, which is 36.\n",
        "\n",
        "When you run the code, it will output:\n",
        "```\n",
        "Bilal\n",
        "13\n",
        "```\n",
        "\n",
        "This code demonstrates the basic concept of creating a class, defining attributes, initializing them using a constructor, and creating an instance of the class to access and print the attribute values."
      ],
      "metadata": {
        "id": "3xspvAEJ-BsV"
      }
    },
    {
      "cell_type": "code",
      "source": [
        "p1 = Person(\"Bilal\", 13)\n",
        "\n",
        "print(p1.name)\n",
        "print(p1.age)"
      ],
      "metadata": {
        "colab": {
          "base_uri": "https://localhost:8080/"
        },
        "id": "bq5BFulV9hkH",
        "outputId": "9a19bb79-fff4-4556-e387-8955d59fff8e"
      },
      "execution_count": 21,
      "outputs": [
        {
          "output_type": "stream",
          "name": "stdout",
          "text": [
            "Bilal\n",
            "13\n"
          ]
        }
      ]
    },
    {
      "cell_type": "markdown",
      "source": [
        "## The __str__() Function\n",
        "The __str__() function controls what should be returned when the class object is represented as a string.\n",
        "\n",
        "If the __str__() function is not set, the string representation of the object is returned:"
      ],
      "metadata": {
        "id": "O6tqk50c-Q5z"
      }
    },
    {
      "cell_type": "code",
      "source": [
        "class Person:\n",
        "  def __init__(self, name, age):\n",
        "    self.name = name\n",
        "    self.age = age\n",
        "\n",
        "  def __str__(self):\n",
        "    return f\"{self.name}({self.age})\""
      ],
      "metadata": {
        "id": "n3G5xgYF9nQc"
      },
      "execution_count": 10,
      "outputs": []
    },
    {
      "cell_type": "code",
      "source": [
        "p1 = Person(\"Bilal\", 13)\n",
        "\n",
        "print(p1)"
      ],
      "metadata": {
        "colab": {
          "base_uri": "https://localhost:8080/"
        },
        "id": "guu8Zxmx-Ze9",
        "outputId": "c80d402e-4795-4cc7-be85-ad807fa1dfd9"
      },
      "execution_count": 22,
      "outputs": [
        {
          "output_type": "stream",
          "name": "stdout",
          "text": [
            "<__main__.Person object at 0x7d18c999e7a0>\n"
          ]
        }
      ]
    },
    {
      "cell_type": "code",
      "source": [
        "# class without __str()__\n",
        "class Person:\n",
        "  def __init__(self, name, age):\n",
        "    self.name = name\n",
        "    self.age = age"
      ],
      "metadata": {
        "id": "USrXVPnD-qHa"
      },
      "execution_count": 14,
      "outputs": []
    },
    {
      "cell_type": "code",
      "source": [
        "p1 = Person(\"Bilal\", 13)\n",
        "\n",
        "print(p1)"
      ],
      "metadata": {
        "colab": {
          "base_uri": "https://localhost:8080/"
        },
        "id": "N1KNnZfq-1i5",
        "outputId": "db16481c-58f6-4fcb-b849-d5fc8e4995c2"
      },
      "execution_count": 15,
      "outputs": [
        {
          "output_type": "stream",
          "name": "stdout",
          "text": [
            "<__main__.Person object at 0x7d18c999e6e0>\n"
          ]
        }
      ]
    },
    {
      "cell_type": "markdown",
      "source": [
        "## Object Methods\n",
        "Objects can also contain methods. Methods in objects are functions that belong to the object.\n",
        "\n",
        "Let us create a method in the Person class:"
      ],
      "metadata": {
        "id": "Z1AnlRml_MAY"
      }
    },
    {
      "cell_type": "code",
      "source": [
        "class Person:\n",
        "  def __init__(self, name, age):\n",
        "    self.name = name\n",
        "    self.age = age\n",
        "\n",
        "  def myfunc(self):\n",
        "    print(\"Hello my name is \" + self.name)"
      ],
      "metadata": {
        "id": "aGvNBmfb_KJe"
      },
      "execution_count": 16,
      "outputs": []
    },
    {
      "cell_type": "code",
      "source": [
        "p1 = Person(\"Bilal\", 13)\n",
        "p1.myfunc()"
      ],
      "metadata": {
        "colab": {
          "base_uri": "https://localhost:8080/"
        },
        "id": "dwrlF80v_Qsl",
        "outputId": "ca947b03-9532-4a23-f10d-a64fc79fe6e0"
      },
      "execution_count": 23,
      "outputs": [
        {
          "output_type": "stream",
          "name": "stdout",
          "text": [
            "Hello my name is Bilal\n"
          ]
        }
      ]
    },
    {
      "cell_type": "markdown",
      "source": [
        "## The self Parameter\n",
        "The self parameter is a reference to the current instance of the class, and is used to access variables that belongs to the class.\n",
        "\n",
        "It does not have to be named self , you can call it whatever you like, but it has to be the first parameter of any function in the class:"
      ],
      "metadata": {
        "id": "ODC3-a13_rlx"
      }
    },
    {
      "cell_type": "code",
      "source": [
        "class Person:\n",
        "  def __init__(mysillyobject, name, age):\n",
        "    mysillyobject.name = name\n",
        "    mysillyobject.age = age\n",
        "\n",
        "  def myfunc(abc):\n",
        "    print(\"Hello my name is \" + abc.name)"
      ],
      "metadata": {
        "id": "FrmWKPsA_l3n"
      },
      "execution_count": 18,
      "outputs": []
    },
    {
      "cell_type": "code",
      "source": [
        "p1 = Person(\"Bilal\", 13)\n",
        "p1.myfunc()"
      ],
      "metadata": {
        "colab": {
          "base_uri": "https://localhost:8080/"
        },
        "id": "U0eeSpL0ATH6",
        "outputId": "ac0f6fba-5475-4a28-a34d-97bb27894d18"
      },
      "execution_count": 24,
      "outputs": [
        {
          "output_type": "stream",
          "name": "stdout",
          "text": [
            "Hello my name is Bilal\n"
          ]
        }
      ]
    }
  ]
}