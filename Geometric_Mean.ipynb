{
  "nbformat": 4,
  "nbformat_minor": 0,
  "metadata": {
    "colab": {
      "provenance": [],
      "authorship_tag": "ABX9TyNdoYHrLwGv6ly5+9Q2tt24",
      "include_colab_link": true
    },
    "kernelspec": {
      "name": "python3",
      "display_name": "Python 3"
    },
    "language_info": {
      "name": "python"
    }
  },
  "cells": [
    {
      "cell_type": "markdown",
      "metadata": {
        "id": "view-in-github",
        "colab_type": "text"
      },
      "source": [
        "<a href=\"https://colab.research.google.com/github/muhbasit/E/blob/main/Geometric_Mean.ipynb\" target=\"_parent\"><img src=\"https://colab.research.google.com/assets/colab-badge.svg\" alt=\"Open In Colab\"/></a>"
      ]
    },
    {
      "cell_type": "markdown",
      "source": [
        "# Geometric Mean\n",
        "The geometric mean is an average that is useful for sets of positive numbers, that are interpreted according to their product (as is the case with rates of growth) and not their sum (as is the case with the arithmetic mean):"
      ],
      "metadata": {
        "id": "bYedwdZGIxxn"
      }
    },
    {
      "cell_type": "markdown",
      "source": [
        "$$\n",
        "\\bar{x}=\\left(\\prod_{i=1}^n x_i\\right)^{\\frac{1}{n}}=\\left(x_1 x_2 \\cdots x_n\\right)^{\\frac{1}{n}}\n",
        "$$\n",
        "For example, the geometric mean of five values: $4,36,45,50,75$ is:\n",
        "$$\n",
        "(4 \\times 36 \\times 45 \\times 50 \\times 75)^{\\frac{1}{5}}=\\sqrt[5]{24300000}\n",
        "$$"
      ],
      "metadata": {
        "id": "ftsRDWw1I6-8"
      }
    },
    {
      "cell_type": "code",
      "execution_count": 1,
      "metadata": {
        "id": "NPt4p7iUIxH6"
      },
      "outputs": [],
      "source": [
        "data = [4,36,45,50,75]"
      ]
    },
    {
      "cell_type": "code",
      "source": [
        "# count number of elements of list\n",
        "count = 0\n",
        "for i in data:\n",
        "  count += 1\n",
        "print(count)"
      ],
      "metadata": {
        "colab": {
          "base_uri": "https://localhost:8080/"
        },
        "id": "wn2qfDJ-Jgqb",
        "outputId": "b9c74ed4-d196-416d-8729-a48af6ef349e"
      },
      "execution_count": 2,
      "outputs": [
        {
          "output_type": "stream",
          "name": "stdout",
          "text": [
            "5\n"
          ]
        }
      ]
    },
    {
      "cell_type": "markdown",
      "source": [
        "$$\n",
        "P_n=\\left(\\prod_{i=1}^n x_i\\right)\n",
        "$$"
      ],
      "metadata": {
        "id": "snMvtU9CKtAr"
      }
    },
    {
      "cell_type": "code",
      "source": [
        "#calculate product\n",
        "prod = 1\n",
        "for i in data:\n",
        "  prod *= i\n",
        "print(prod)"
      ],
      "metadata": {
        "colab": {
          "base_uri": "https://localhost:8080/"
        },
        "id": "r3dkhFygJr11",
        "outputId": "d9b10720-c878-4e9b-de4a-fd3dff98246d"
      },
      "execution_count": 5,
      "outputs": [
        {
          "output_type": "stream",
          "name": "stdout",
          "text": [
            "24300000\n"
          ]
        }
      ]
    },
    {
      "cell_type": "markdown",
      "source": [
        "$$\n",
        "\\bar{x}=\\left(\\prod_{i=1}^n x_i\\right)^{\\frac{1}{n}}=\\left(x_1 x_2 \\cdots x_n\\right)^{\\frac{1}{n}}\n",
        "$$"
      ],
      "metadata": {
        "id": "J3-hk12oLLwD"
      }
    },
    {
      "cell_type": "code",
      "source": [
        "geometric_mean = prod**(1/count)\n",
        "print(geometric_mean)"
      ],
      "metadata": {
        "colab": {
          "base_uri": "https://localhost:8080/"
        },
        "id": "9gx5osblKL-P",
        "outputId": "d0c45b42-5e1a-4078-aa45-58b0c9d09d03"
      },
      "execution_count": 8,
      "outputs": [
        {
          "output_type": "stream",
          "name": "stdout",
          "text": [
            "30.000000000000007\n"
          ]
        }
      ]
    }
  ]
}