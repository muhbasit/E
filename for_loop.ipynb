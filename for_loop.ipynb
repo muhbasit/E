{
  "nbformat": 4,
  "nbformat_minor": 0,
  "metadata": {
    "colab": {
      "provenance": [],
      "authorship_tag": "ABX9TyN0N3YYctypMA6a8Wmcy+Wq",
      "include_colab_link": true
    },
    "kernelspec": {
      "name": "python3",
      "display_name": "Python 3"
    },
    "language_info": {
      "name": "python"
    }
  },
  "cells": [
    {
      "cell_type": "markdown",
      "metadata": {
        "id": "view-in-github",
        "colab_type": "text"
      },
      "source": [
        "<a href=\"https://colab.research.google.com/github/muhbasit/E/blob/main/for_loop.ipynb\" target=\"_parent\"><img src=\"https://colab.research.google.com/assets/colab-badge.svg\" alt=\"Open In Colab\"/></a>"
      ]
    },
    {
      "cell_type": "code",
      "execution_count": 1,
      "metadata": {
        "colab": {
          "base_uri": "https://localhost:8080/"
        },
        "id": "zluUQFK4bxAZ",
        "outputId": "8813d80a-b749-4098-a4d6-8013ec3e1ac4"
      },
      "outputs": [
        {
          "output_type": "stream",
          "name": "stdout",
          "text": [
            "apple\n",
            "banana\n",
            "cherry\n"
          ]
        }
      ],
      "source": [
        "fruits = [\"apple\", \"banana\", \"cherry\"]\n",
        "for x in fruits:\n",
        "  print(x)"
      ]
    },
    {
      "cell_type": "code",
      "source": [
        "for i in range(10):\n",
        "  print(i, i**2, i**3)"
      ],
      "metadata": {
        "colab": {
          "base_uri": "https://localhost:8080/"
        },
        "id": "mm_BGoZJcDWe",
        "outputId": "fa0ef1a9-0b46-418e-d290-7775aaa92d02"
      },
      "execution_count": 4,
      "outputs": [
        {
          "output_type": "stream",
          "name": "stdout",
          "text": [
            "0 0 0\n",
            "1 1 1\n",
            "2 4 8\n",
            "3 9 27\n",
            "4 16 64\n",
            "5 25 125\n",
            "6 36 216\n",
            "7 49 343\n",
            "8 64 512\n",
            "9 81 729\n"
          ]
        }
      ]
    },
    {
      "cell_type": "code",
      "source": [
        "# Drawing a right triangle pattern\n",
        "size = 5\n",
        "for i in range(1, size + 1):\n",
        "    for j in range(i):\n",
        "        print(\"*\", end=\"\")\n",
        "    print()"
      ],
      "metadata": {
        "colab": {
          "base_uri": "https://localhost:8080/"
        },
        "id": "s10AM5VgcccC",
        "outputId": "70297670-f013-4eaf-d6d2-afb315bede7a"
      },
      "execution_count": 5,
      "outputs": [
        {
          "output_type": "stream",
          "name": "stdout",
          "text": [
            "*\n",
            "**\n",
            "***\n",
            "****\n",
            "*****\n"
          ]
        }
      ]
    },
    {
      "cell_type": "code",
      "source": [
        "rows = 5\n",
        "\n",
        "for i in range(rows, 0, -1):\n",
        "    print(\" \" * (rows - i) + \"*\" * (2 * i - 1))"
      ],
      "metadata": {
        "colab": {
          "base_uri": "https://localhost:8080/"
        },
        "id": "hw6onH7fcdOZ",
        "outputId": "8d145705-22e1-4897-f195-8699d7c63e38"
      },
      "execution_count": 6,
      "outputs": [
        {
          "output_type": "stream",
          "name": "stdout",
          "text": [
            "*********\n",
            " *******\n",
            "  *****\n",
            "   ***\n",
            "    *\n"
          ]
        }
      ]
    },
    {
      "cell_type": "code",
      "source": [
        "rows = 5\n",
        "\n",
        "for i in range(rows):\n",
        "    print(\" \" * (rows - i - 1) + \"*\" * (2 * i + 1))"
      ],
      "metadata": {
        "colab": {
          "base_uri": "https://localhost:8080/"
        },
        "id": "s6BEPM3Jcj-P",
        "outputId": "5a6d9688-fd3d-458c-9405-7fbe6c0d1457"
      },
      "execution_count": 7,
      "outputs": [
        {
          "output_type": "stream",
          "name": "stdout",
          "text": [
            "    *\n",
            "   ***\n",
            "  *****\n",
            " *******\n",
            "*********\n"
          ]
        }
      ]
    },
    {
      "cell_type": "code",
      "source": [
        "# Drawing a right triangle pattern\n",
        "size = 5\n",
        "for i in range(1, size + 1):\n",
        "    for j in range(i):\n",
        "        print(\"*\", end=\"\")\n",
        "    print()"
      ],
      "metadata": {
        "colab": {
          "base_uri": "https://localhost:8080/"
        },
        "id": "N5aC2H9acmV-",
        "outputId": "89b540f6-9ba2-49a2-dc71-42d097a7e5a6"
      },
      "execution_count": 8,
      "outputs": [
        {
          "output_type": "stream",
          "name": "stdout",
          "text": [
            "*\n",
            "**\n",
            "***\n",
            "****\n",
            "*****\n"
          ]
        }
      ]
    },
    {
      "cell_type": "code",
      "source": [
        "# Creating a 3-dimensional list\n",
        "three_dim_list = [[[1, 2, 3], [4, 5, 6]], [[7, 8, 9], [10, 11, 12]]]\n",
        "\n",
        "# Iterating over elements in a 3-dimensional list using nested for loops\n",
        "for x in range(len(three_dim_list)):\n",
        "    for y in range(len(three_dim_list[x])):\n",
        "        for z in range(len(three_dim_list[x][y])):\n",
        "            print(f\"three_dim_list[{x}][{y}][{z}] =\", three_dim_list[x][y][z])"
      ],
      "metadata": {
        "colab": {
          "base_uri": "https://localhost:8080/"
        },
        "id": "R5tnzK_fcyiC",
        "outputId": "9c720157-7642-4738-f961-130d87b2a327"
      },
      "execution_count": 9,
      "outputs": [
        {
          "output_type": "stream",
          "name": "stdout",
          "text": [
            "three_dim_list[0][0][0] = 1\n",
            "three_dim_list[0][0][1] = 2\n",
            "three_dim_list[0][0][2] = 3\n",
            "three_dim_list[0][1][0] = 4\n",
            "three_dim_list[0][1][1] = 5\n",
            "three_dim_list[0][1][2] = 6\n",
            "three_dim_list[1][0][0] = 7\n",
            "three_dim_list[1][0][1] = 8\n",
            "three_dim_list[1][0][2] = 9\n",
            "three_dim_list[1][1][0] = 10\n",
            "three_dim_list[1][1][1] = 11\n",
            "three_dim_list[1][1][2] = 12\n"
          ]
        }
      ]
    },
    {
      "cell_type": "code",
      "source": [
        "# Creating a 4-dimensional list\n",
        "four_dim_list = [[[[1, 2], [3, 4]], [[5, 6], [7, 8]]],\n",
        "                 [[[9, 10], [11, 12]], [[13, 14], [15, 16]]]]\n",
        "\n",
        "# Iterating over elements in a 4-dimensional list using nested for loops\n",
        "for w in range(len(four_dim_list)):\n",
        "    for x in range(len(four_dim_list[w])):\n",
        "        for y in range(len(four_dim_list[w][x])):\n",
        "            for z in range(len(four_dim_list[w][x][y])):\n",
        "                print(f\"four_dim_list[{w}][{x}][{y}][{z}] =\", four_dim_list[w][x][y][z])"
      ],
      "metadata": {
        "colab": {
          "base_uri": "https://localhost:8080/"
        },
        "id": "tLSyakL1dH_-",
        "outputId": "09c5d409-66d0-4ebd-f284-f6682518c08f"
      },
      "execution_count": 10,
      "outputs": [
        {
          "output_type": "stream",
          "name": "stdout",
          "text": [
            "four_dim_list[0][0][0][0] = 1\n",
            "four_dim_list[0][0][0][1] = 2\n",
            "four_dim_list[0][0][1][0] = 3\n",
            "four_dim_list[0][0][1][1] = 4\n",
            "four_dim_list[0][1][0][0] = 5\n",
            "four_dim_list[0][1][0][1] = 6\n",
            "four_dim_list[0][1][1][0] = 7\n",
            "four_dim_list[0][1][1][1] = 8\n",
            "four_dim_list[1][0][0][0] = 9\n",
            "four_dim_list[1][0][0][1] = 10\n",
            "four_dim_list[1][0][1][0] = 11\n",
            "four_dim_list[1][0][1][1] = 12\n",
            "four_dim_list[1][1][0][0] = 13\n",
            "four_dim_list[1][1][0][1] = 14\n",
            "four_dim_list[1][1][1][0] = 15\n",
            "four_dim_list[1][1][1][1] = 16\n"
          ]
        }
      ]
    },
    {
      "cell_type": "code",
      "source": [
        "# Creating a 5-dimensional list\n",
        "five_dim_list = [[[[[1, 2], [3, 4]], [[5, 6], [7, 8]]],\n",
        "                  [[[9, 10], [11, 12]], [[13, 14], [15, 16]]]],\n",
        "                 [[[[17, 18], [19, 20]], [[21, 22], [23, 24]]],\n",
        "                  [[[25, 26], [27, 28]], [[29, 30], [31, 32]]]]]\n",
        "\n",
        "# Iterating over elements in a 5-dimensional list using nested for loops\n",
        "for v in range(len(five_dim_list)):\n",
        "    for w in range(len(five_dim_list[v])):\n",
        "        for x in range(len(five_dim_list[v][w])):\n",
        "            for y in range(len(five_dim_list[v][w][x])):\n",
        "                for z in range(len(five_dim_list[v][w][x][y])):\n",
        "                    print(f\"five_dim_list[{v}][{w}][{x}][{y}][{z}] =\", five_dim_list[v][w][x][y][z])"
      ],
      "metadata": {
        "colab": {
          "base_uri": "https://localhost:8080/"
        },
        "id": "p1nhfh-QdJFI",
        "outputId": "b4030c29-8316-4238-d2eb-95eda9a0f9f5"
      },
      "execution_count": 11,
      "outputs": [
        {
          "output_type": "stream",
          "name": "stdout",
          "text": [
            "five_dim_list[0][0][0][0][0] = 1\n",
            "five_dim_list[0][0][0][0][1] = 2\n",
            "five_dim_list[0][0][0][1][0] = 3\n",
            "five_dim_list[0][0][0][1][1] = 4\n",
            "five_dim_list[0][0][1][0][0] = 5\n",
            "five_dim_list[0][0][1][0][1] = 6\n",
            "five_dim_list[0][0][1][1][0] = 7\n",
            "five_dim_list[0][0][1][1][1] = 8\n",
            "five_dim_list[0][1][0][0][0] = 9\n",
            "five_dim_list[0][1][0][0][1] = 10\n",
            "five_dim_list[0][1][0][1][0] = 11\n",
            "five_dim_list[0][1][0][1][1] = 12\n",
            "five_dim_list[0][1][1][0][0] = 13\n",
            "five_dim_list[0][1][1][0][1] = 14\n",
            "five_dim_list[0][1][1][1][0] = 15\n",
            "five_dim_list[0][1][1][1][1] = 16\n",
            "five_dim_list[1][0][0][0][0] = 17\n",
            "five_dim_list[1][0][0][0][1] = 18\n",
            "five_dim_list[1][0][0][1][0] = 19\n",
            "five_dim_list[1][0][0][1][1] = 20\n",
            "five_dim_list[1][0][1][0][0] = 21\n",
            "five_dim_list[1][0][1][0][1] = 22\n",
            "five_dim_list[1][0][1][1][0] = 23\n",
            "five_dim_list[1][0][1][1][1] = 24\n",
            "five_dim_list[1][1][0][0][0] = 25\n",
            "five_dim_list[1][1][0][0][1] = 26\n",
            "five_dim_list[1][1][0][1][0] = 27\n",
            "five_dim_list[1][1][0][1][1] = 28\n",
            "five_dim_list[1][1][1][0][0] = 29\n",
            "five_dim_list[1][1][1][0][1] = 30\n",
            "five_dim_list[1][1][1][1][0] = 31\n",
            "five_dim_list[1][1][1][1][1] = 32\n"
          ]
        }
      ]
    },
    {
      "cell_type": "code",
      "source": [
        "# Creating a simplified 6-dimensional list (just for demonstration)\n",
        "six_dim_list = [[[[[[1, 2], [3, 4]], [[5, 6], [7, 8]]],\n",
        "                  [[[9, 10], [11, 12]], [[13, 14], [15, 16]]]],\n",
        "                 [[[[17, 18], [19, 20]], [[21, 22], [23, 24]]],\n",
        "                  [[[25, 26], [27, 28]], [[29, 30], [31, 32]]]]],\n",
        "                [[[[[[33, 34], [35, 36]], [[37, 38], [39, 40]]],\n",
        "                  [[[41, 42], [43, 44]], [[45, 46], [47, 48]]]],\n",
        "                 [[[[49, 50], [51, 52]], [[53, 54], [55, 56]]],\n",
        "                  [[[57, 58], [59, 60]], [[61, 62], [63, 64]]]]]]]\n",
        "\n",
        "# Iterating over elements in a simplified 6-dimensional list using nested for loops\n",
        "for a in range(len(six_dim_list)):\n",
        "    for b in range(len(six_dim_list[a])):\n",
        "        for c in range(len(six_dim_list[a][b])):\n",
        "            for d in range(len(six_dim_list[a][b][c])):\n",
        "                for e in range(len(six_dim_list[a][b][c][d])):\n",
        "                    for f in range(len(six_dim_list[a][b][c][d][e])):\n",
        "                        print(f\"six_dim_list[{a}][{b}][{c}][{d}][{e}][{f}] =\", six_dim_list[a][b][c][d][e][f])"
      ],
      "metadata": {
        "colab": {
          "base_uri": "https://localhost:8080/"
        },
        "id": "9QoqmD21dROB",
        "outputId": "99543ba8-1873-490c-9fde-8d55a463b3a0"
      },
      "execution_count": 13,
      "outputs": [
        {
          "output_type": "stream",
          "name": "stdout",
          "text": [
            "six_dim_list[0][0][0][0][0][0] = 1\n",
            "six_dim_list[0][0][0][0][0][1] = 2\n",
            "six_dim_list[0][0][0][0][1][0] = 3\n",
            "six_dim_list[0][0][0][0][1][1] = 4\n",
            "six_dim_list[0][0][0][1][0][0] = 5\n",
            "six_dim_list[0][0][0][1][0][1] = 6\n",
            "six_dim_list[0][0][0][1][1][0] = 7\n",
            "six_dim_list[0][0][0][1][1][1] = 8\n",
            "six_dim_list[0][0][1][0][0][0] = 9\n",
            "six_dim_list[0][0][1][0][0][1] = 10\n",
            "six_dim_list[0][0][1][0][1][0] = 11\n",
            "six_dim_list[0][0][1][0][1][1] = 12\n",
            "six_dim_list[0][0][1][1][0][0] = 13\n",
            "six_dim_list[0][0][1][1][0][1] = 14\n",
            "six_dim_list[0][0][1][1][1][0] = 15\n",
            "six_dim_list[0][0][1][1][1][1] = 16\n",
            "six_dim_list[0][1][0][0][0][0] = 17\n",
            "six_dim_list[0][1][0][0][0][1] = 18\n",
            "six_dim_list[0][1][0][0][1][0] = 19\n",
            "six_dim_list[0][1][0][0][1][1] = 20\n",
            "six_dim_list[0][1][0][1][0][0] = 21\n",
            "six_dim_list[0][1][0][1][0][1] = 22\n",
            "six_dim_list[0][1][0][1][1][0] = 23\n",
            "six_dim_list[0][1][0][1][1][1] = 24\n",
            "six_dim_list[0][1][1][0][0][0] = 25\n",
            "six_dim_list[0][1][1][0][0][1] = 26\n",
            "six_dim_list[0][1][1][0][1][0] = 27\n",
            "six_dim_list[0][1][1][0][1][1] = 28\n",
            "six_dim_list[0][1][1][1][0][0] = 29\n",
            "six_dim_list[0][1][1][1][0][1] = 30\n",
            "six_dim_list[0][1][1][1][1][0] = 31\n",
            "six_dim_list[0][1][1][1][1][1] = 32\n",
            "six_dim_list[1][0][0][0][0][0] = [33, 34]\n",
            "six_dim_list[1][0][0][0][0][1] = [35, 36]\n",
            "six_dim_list[1][0][0][0][1][0] = [37, 38]\n",
            "six_dim_list[1][0][0][0][1][1] = [39, 40]\n",
            "six_dim_list[1][0][0][1][0][0] = [41, 42]\n",
            "six_dim_list[1][0][0][1][0][1] = [43, 44]\n",
            "six_dim_list[1][0][0][1][1][0] = [45, 46]\n",
            "six_dim_list[1][0][0][1][1][1] = [47, 48]\n",
            "six_dim_list[1][0][1][0][0][0] = [49, 50]\n",
            "six_dim_list[1][0][1][0][0][1] = [51, 52]\n",
            "six_dim_list[1][0][1][0][1][0] = [53, 54]\n",
            "six_dim_list[1][0][1][0][1][1] = [55, 56]\n",
            "six_dim_list[1][0][1][1][0][0] = [57, 58]\n",
            "six_dim_list[1][0][1][1][0][1] = [59, 60]\n",
            "six_dim_list[1][0][1][1][1][0] = [61, 62]\n",
            "six_dim_list[1][0][1][1][1][1] = [63, 64]\n"
          ]
        }
      ]
    }
  ]
}