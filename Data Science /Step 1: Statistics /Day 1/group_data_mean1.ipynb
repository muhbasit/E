{
  "nbformat": 4,
  "nbformat_minor": 0,
  "metadata": {
    "colab": {
      "provenance": [],
      "authorship_tag": "ABX9TyNfszftw/TfwjhukvAi7eMb",
      "include_colab_link": true
    },
    "kernelspec": {
      "name": "python3",
      "display_name": "Python 3"
    },
    "language_info": {
      "name": "python"
    }
  },
  "cells": [
    {
      "cell_type": "markdown",
      "metadata": {
        "id": "view-in-github",
        "colab_type": "text"
      },
      "source": [
        "<a href=\"https://colab.research.google.com/github/muhbasit/E/blob/main/group_data_mean1.ipynb\" target=\"_parent\"><img src=\"https://colab.research.google.com/assets/colab-badge.svg\" alt=\"Open In Colab\"/></a>"
      ]
    },
    {
      "cell_type": "code",
      "execution_count": 1,
      "metadata": {
        "id": "vVaWieZAIIbF"
      },
      "outputs": [],
      "source": [
        "import pandas as pd"
      ]
    },
    {
      "cell_type": "code",
      "source": [
        "#create DataFrame\n",
        "data = pd.DataFrame({'team': ['A', 'A', 'A', 'A', 'B', 'B', 'B', 'B'],\n",
        "                   'position': ['G', 'F', 'F', 'G', 'F', 'F', 'G', 'G'],\n",
        "                   'points': [30, 22, 19, 14, 14, 11, 20, 28],\n",
        "                   'assists': [4, 3, 7, 7, 12, 15, 8, 4]})"
      ],
      "metadata": {
        "id": "H520jCa6IkmF"
      },
      "execution_count": 6,
      "outputs": []
    },
    {
      "cell_type": "code",
      "source": [
        "print(data.head)"
      ],
      "metadata": {
        "colab": {
          "base_uri": "https://localhost:8080/"
        },
        "id": "4vbbHVAGIoiW",
        "outputId": "0822f7ac-3bc8-4a70-b477-e0c3b90e2cc9"
      },
      "execution_count": 7,
      "outputs": [
        {
          "output_type": "stream",
          "name": "stdout",
          "text": [
            "<bound method NDFrame.head of   team position  points  assists\n",
            "0    A        G      30        4\n",
            "1    A        F      22        3\n",
            "2    A        F      19        7\n",
            "3    A        G      14        7\n",
            "4    B        F      14       12\n",
            "5    B        F      11       15\n",
            "6    B        G      20        8\n",
            "7    B        G      28        4>\n"
          ]
        }
      ]
    },
    {
      "cell_type": "code",
      "source": [
        "print(data['points'])"
      ],
      "metadata": {
        "colab": {
          "base_uri": "https://localhost:8080/"
        },
        "id": "Jm88p0-FI_S1",
        "outputId": "8cb8008f-6a09-4464-f9e1-6d44c8f5c68a"
      },
      "execution_count": 23,
      "outputs": [
        {
          "output_type": "stream",
          "name": "stdout",
          "text": [
            "0    30\n",
            "1    22\n",
            "2    19\n",
            "3    14\n",
            "4    14\n",
            "5    11\n",
            "6    20\n",
            "7    28\n",
            "Name: points, dtype: int64\n"
          ]
        }
      ]
    },
    {
      "cell_type": "code",
      "source": [
        "n = len(data['points'])\n",
        "print(n)"
      ],
      "metadata": {
        "colab": {
          "base_uri": "https://localhost:8080/"
        },
        "id": "5O4hP2MSJJ6_",
        "outputId": "66133ee9-2c2d-4ed0-cfe8-52fcfb6b6b13"
      },
      "execution_count": 10,
      "outputs": [
        {
          "output_type": "stream",
          "name": "stdout",
          "text": [
            "8\n"
          ]
        }
      ]
    },
    {
      "cell_type": "code",
      "source": [
        "sum = 0\n",
        "for i in data['points']:\n",
        "  sum += i\n",
        "print(sum)"
      ],
      "metadata": {
        "colab": {
          "base_uri": "https://localhost:8080/"
        },
        "id": "Ql6DIYgcJXYk",
        "outputId": "118f99a8-6d15-45b8-e59e-0b3c085c1b1f"
      },
      "execution_count": 12,
      "outputs": [
        {
          "output_type": "stream",
          "name": "stdout",
          "text": [
            "158\n"
          ]
        }
      ]
    },
    {
      "cell_type": "code",
      "source": [
        "mean = sum / n"
      ],
      "metadata": {
        "id": "a7N-TA-SJj2e"
      },
      "execution_count": 13,
      "outputs": []
    },
    {
      "cell_type": "code",
      "source": [
        "print(mean)"
      ],
      "metadata": {
        "colab": {
          "base_uri": "https://localhost:8080/"
        },
        "id": "5K-IkBAzJnCK",
        "outputId": "9676fdf6-f07a-414b-e6bb-76fe7d8dd772"
      },
      "execution_count": 14,
      "outputs": [
        {
          "output_type": "stream",
          "name": "stdout",
          "text": [
            "19.75\n"
          ]
        }
      ]
    },
    {
      "cell_type": "code",
      "source": [
        "da = data.groupby(['team', 'points']).mean()"
      ],
      "metadata": {
        "colab": {
          "base_uri": "https://localhost:8080/"
        },
        "id": "I7Sqqdy6MvHf",
        "outputId": "a5dd95d3-25d8-40d3-c8e8-01a7b23c818d"
      },
      "execution_count": 39,
      "outputs": [
        {
          "output_type": "stream",
          "name": "stderr",
          "text": [
            "<ipython-input-39-3a7ad702cc68>:1: FutureWarning: The default value of numeric_only in DataFrameGroupBy.mean is deprecated. In a future version, numeric_only will default to False. Either specify numeric_only or select only columns which should be valid for the function.\n",
            "  da = data.groupby(['team', 'points']).mean()\n"
          ]
        }
      ]
    },
    {
      "cell_type": "code",
      "source": [
        "#print(da)\n",
        "print(data.groupby(['team', 'position', 'points']).mean())"
      ],
      "metadata": {
        "colab": {
          "base_uri": "https://localhost:8080/"
        },
        "id": "p6c-mqV0NGO2",
        "outputId": "e2f9a37e-a320-4c99-b52d-229e87b26630"
      },
      "execution_count": 42,
      "outputs": [
        {
          "output_type": "stream",
          "name": "stdout",
          "text": [
            "             assists\n",
            "team points         \n",
            "A    14          7.0\n",
            "     19          7.0\n",
            "     22          3.0\n",
            "     30          4.0\n",
            "B    11         15.0\n",
            "     14         12.0\n",
            "     20          8.0\n",
            "     28          4.0\n"
          ]
        },
        {
          "output_type": "stream",
          "name": "stderr",
          "text": [
            "<ipython-input-42-6c9d766e7fdd>:2: FutureWarning: The default value of numeric_only in DataFrameGroupBy.mean is deprecated. In a future version, numeric_only will default to False. Either specify numeric_only or select only columns which should be valid for the function.\n",
            "  print(data.groupby(['team', 'points']).mean())\n"
          ]
        }
      ]
    },
    {
      "cell_type": "code",
      "source": [
        "print(data.groupby(['team', 'points']).mean())"
      ],
      "metadata": {
        "colab": {
          "base_uri": "https://localhost:8080/"
        },
        "id": "NiENMx7TOkmD",
        "outputId": "15aca7b8-4110-4444-e4c2-a8251b237c47"
      },
      "execution_count": 45,
      "outputs": [
        {
          "output_type": "stream",
          "name": "stdout",
          "text": [
            "             assists\n",
            "team points         \n",
            "A    14          7.0\n",
            "     19          7.0\n",
            "     22          3.0\n",
            "     30          4.0\n",
            "B    11         15.0\n",
            "     14         12.0\n",
            "     20          8.0\n",
            "     28          4.0\n"
          ]
        },
        {
          "output_type": "stream",
          "name": "stderr",
          "text": [
            "<ipython-input-45-fd01d94f015c>:1: FutureWarning: The default value of numeric_only in DataFrameGroupBy.mean is deprecated. In a future version, numeric_only will default to False. Either specify numeric_only or select only columns which should be valid for the function.\n",
            "  print(data.groupby(['team', 'points']).mean())\n"
          ]
        }
      ]
    }
  ]
}
