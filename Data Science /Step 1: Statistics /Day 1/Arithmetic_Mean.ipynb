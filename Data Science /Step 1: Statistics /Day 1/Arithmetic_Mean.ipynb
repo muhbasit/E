{
  "nbformat": 4,
  "nbformat_minor": 0,
  "metadata": {
    "colab": {
      "provenance": [],
      "authorship_tag": "ABX9TyObdyipfvVvnpYtRH02gqHg",
      "include_colab_link": true
    },
    "kernelspec": {
      "name": "python3",
      "display_name": "Python 3"
    },
    "language_info": {
      "name": "python"
    }
  },
  "cells": [
    {
      "cell_type": "markdown",
      "metadata": {
        "id": "view-in-github",
        "colab_type": "text"
      },
      "source": [
        "<a href=\"https://colab.research.google.com/github/muhbasit/E/blob/main/Arithmetic_Mean.ipynb\" target=\"_parent\"><img src=\"https://colab.research.google.com/assets/colab-badge.svg\" alt=\"Open In Colab\"/></a>"
      ]
    },
    {
      "cell_type": "markdown",
      "source": [
        "# Arithmetic Mean\n",
        "\n",
        "The arithmetic mean (or simply mean) of a list of numbers, is the sum of all of the numbers divided by the number of numbers."
      ],
      "metadata": {
        "id": "O4FCfK_fDrAF"
      }
    },
    {
      "cell_type": "markdown",
      "source": [
        "Similarly, the mean of a sample\n",
        "$x_{1},x_{2},\\ldots ,x_{n}$ usually denoted by $\n",
        "{\\bar {x}}$, is the sum of the sampled values divided by the number of items in the sample."
      ],
      "metadata": {
        "id": "BM7UTKH_D_2X"
      }
    },
    {
      "cell_type": "markdown",
      "source": [
        "$$\n",
        "\\bar{x}=\\frac{1}{n}\\left(\\sum_{i=1}^n x_i\\right)=\\frac{x_1+x_2+\\cdots+x_n}{n}\n",
        "$$\n",
        "For example, the arithmetic mean of five values: $4,36,45,50,75$ is:\n",
        "$$\n",
        "\\frac{4+36+45+50+75}{5}=\\frac{210}{5}=42 .\n",
        "$$"
      ],
      "metadata": {
        "id": "nl7dE3XLEaad"
      }
    },
    {
      "cell_type": "code",
      "execution_count": 1,
      "metadata": {
        "id": "HaW8Sj2CDlxv"
      },
      "outputs": [],
      "source": [
        "\n",
        "# Data\n",
        "data = [4,36,45,50,75]"
      ]
    },
    {
      "cell_type": "code",
      "source": [
        "# count number of elements\n",
        "count = 0\n",
        "for i in data:\n",
        "  count += 1\n",
        "print(count)"
      ],
      "metadata": {
        "colab": {
          "base_uri": "https://localhost:8080/"
        },
        "id": "h3ZUJxYHFRfb",
        "outputId": "2470a6a0-5561-48b4-eb8b-c2b78d30bf36"
      },
      "execution_count": 2,
      "outputs": [
        {
          "output_type": "stream",
          "name": "stdout",
          "text": [
            "5\n"
          ]
        }
      ]
    },
    {
      "cell_type": "markdown",
      "source": [
        "$$\n",
        "S_n=\\left(\\sum_{i=1}^n x_i\\right)\n",
        "$$"
      ],
      "metadata": {
        "id": "gtxItA6MHN3Z"
      }
    },
    {
      "cell_type": "code",
      "source": [
        "# calculate sum\n",
        "sum = 0\n",
        "for j in data:\n",
        "  sum += j\n",
        "print(sum)"
      ],
      "metadata": {
        "colab": {
          "base_uri": "https://localhost:8080/"
        },
        "id": "66jTFpQ3GhMd",
        "outputId": "cc8b18f0-7492-40d2-85f1-60c724d83e95"
      },
      "execution_count": 4,
      "outputs": [
        {
          "output_type": "stream",
          "name": "stdout",
          "text": [
            "210\n"
          ]
        }
      ]
    },
    {
      "cell_type": "markdown",
      "source": [
        "$$\n",
        "\\bar{x}=\\frac{1}{n}\\left(\\sum_{i=1}^n x_i\\right) \\\\\n",
        "\\bar{x}=\\frac{x_1+x_2+x_3+x_4+x_5}{n}\n",
        "$$"
      ],
      "metadata": {
        "id": "TSl5QWIRFmc6"
      }
    },
    {
      "cell_type": "code",
      "source": [
        "arithmetics_mean = sum / count\n",
        "print(arithmetics_mean)"
      ],
      "metadata": {
        "colab": {
          "base_uri": "https://localhost:8080/"
        },
        "id": "MYfUSrZ3Fh_-",
        "outputId": "1fadd09f-95ef-43c2-a511-69a255381ce8"
      },
      "execution_count": 8,
      "outputs": [
        {
          "output_type": "stream",
          "name": "stdout",
          "text": [
            "42.0\n"
          ]
        }
      ]
    }
  ]
}
