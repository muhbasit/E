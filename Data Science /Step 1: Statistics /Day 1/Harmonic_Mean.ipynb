{
  "nbformat": 4,
  "nbformat_minor": 0,
  "metadata": {
    "colab": {
      "provenance": [],
      "authorship_tag": "ABX9TyNBkhOtmF6UMByuhwYLg5qE",
      "include_colab_link": true
    },
    "kernelspec": {
      "name": "python3",
      "display_name": "Python 3"
    },
    "language_info": {
      "name": "python"
    }
  },
  "cells": [
    {
      "cell_type": "markdown",
      "metadata": {
        "id": "view-in-github",
        "colab_type": "text"
      },
      "source": [
        "<a href=\"https://colab.research.google.com/github/muhbasit/E/blob/main/Harmonic_Mean.ipynb\" target=\"_parent\"><img src=\"https://colab.research.google.com/assets/colab-badge.svg\" alt=\"Open In Colab\"/></a>"
      ]
    },
    {
      "cell_type": "markdown",
      "source": [
        "# Harmonic Mean\n",
        "\n",
        "The harmonic mean is an average which is useful for sets of numbers which are defined in relation to some unit, as in the case of speed (i.e., distance per unit of time):"
      ],
      "metadata": {
        "id": "Szc2L_RkMMzE"
      }
    },
    {
      "cell_type": "markdown",
      "source": [
        "$$\n",
        "\\bar{x}=n\\left(\\sum_{i=1}^n \\frac{1}{x_i}\\right)^{-1}\n",
        "$$\n",
        "For example, the harmonic mean of the five values: $4,36,45,50,75$ is\n",
        "$$\n",
        "\\frac{5}{\\frac{1}{4}+\\frac{1}{36}+\\frac{1}{45}+\\frac{1}{50}+\\frac{1}{75}}=\\frac{5}{\\frac{1}{3}}=15 .\n",
        "$$"
      ],
      "metadata": {
        "id": "qXubZyUQMRD5"
      }
    },
    {
      "cell_type": "code",
      "execution_count": 1,
      "metadata": {
        "id": "jEuGQZ_vL_O2"
      },
      "outputs": [],
      "source": [
        "data = [4,36,45,50,75]"
      ]
    },
    {
      "cell_type": "code",
      "source": [
        "# calculate number of elements\n",
        "count = 0\n",
        "for i in data:\n",
        "  count += 1\n",
        "print(count)"
      ],
      "metadata": {
        "colab": {
          "base_uri": "https://localhost:8080/"
        },
        "id": "hC_NVX-EMgb4",
        "outputId": "c15df6f1-e2b0-4173-aec1-7b5044724424"
      },
      "execution_count": 2,
      "outputs": [
        {
          "output_type": "stream",
          "name": "stdout",
          "text": [
            "5\n"
          ]
        }
      ]
    },
    {
      "cell_type": "markdown",
      "source": [
        "$$\n",
        "S_n=\\left(\\sum_{i=1}^n \\frac{1}{x_i}\\right)\n",
        "$$"
      ],
      "metadata": {
        "id": "6gWTcO-6S8cT"
      }
    },
    {
      "cell_type": "code",
      "source": [
        "# calculate sum of reciprocal\n",
        "sum = 0\n",
        "for i in data:\n",
        "  sum += 1/i\n",
        "print(sum)"
      ],
      "metadata": {
        "colab": {
          "base_uri": "https://localhost:8080/"
        },
        "id": "aaUR6FHnNBdv",
        "outputId": "3a46dfb9-7a9f-433f-edd9-6a68fb01002a"
      },
      "execution_count": 3,
      "outputs": [
        {
          "output_type": "stream",
          "name": "stdout",
          "text": [
            "0.3333333333333333\n"
          ]
        }
      ]
    },
    {
      "cell_type": "markdown",
      "source": [
        "$$\n",
        "\\bar{x}=n\\left(\\sum_{i=1}^n \\frac{1}{x_i}\\right)^{-1}\n",
        "$$"
      ],
      "metadata": {
        "id": "ExemAzlXToGw"
      }
    },
    {
      "cell_type": "code",
      "source": [
        "# calculate Harmonic mean\n",
        "harmonic_mean = count/sum\n",
        "print(harmonic_mean)"
      ],
      "metadata": {
        "colab": {
          "base_uri": "https://localhost:8080/"
        },
        "id": "9eNNUciJNVPW",
        "outputId": "b6942187-09da-423a-8569-a95c0b1cc3b0"
      },
      "execution_count": 4,
      "outputs": [
        {
          "output_type": "stream",
          "name": "stdout",
          "text": [
            "15.0\n"
          ]
        }
      ]
    }
  ]
}
