{
  "nbformat": 4,
  "nbformat_minor": 0,
  "metadata": {
    "colab": {
      "provenance": [],
      "authorship_tag": "ABX9TyNbouLhyTsQZgpNOm0sFTfl",
      "include_colab_link": true
    },
    "kernelspec": {
      "name": "python3",
      "display_name": "Python 3"
    },
    "language_info": {
      "name": "python"
    }
  },
  "cells": [
    {
      "cell_type": "markdown",
      "metadata": {
        "id": "view-in-github",
        "colab_type": "text"
      },
      "source": [
        "<a href=\"https://colab.research.google.com/github/muhbasit/E/blob/main/mean_pure_calc.ipynb\" target=\"_parent\"><img src=\"https://colab.research.google.com/assets/colab-badge.svg\" alt=\"Open In Colab\"/></a>"
      ]
    },
    {
      "cell_type": "code",
      "source": [
        "import numpy as np"
      ],
      "metadata": {
        "id": "dRkH-cb4-A7q"
      },
      "execution_count": 19,
      "outputs": []
    },
    {
      "cell_type": "code",
      "execution_count": 14,
      "metadata": {
        "id": "uod6e-ZS19Cy"
      },
      "outputs": [],
      "source": [
        "data = [2,4,4,5,5,7,8,8,9]"
      ]
    },
    {
      "cell_type": "code",
      "source": [
        "# count number of elements of list\n",
        "count = 0\n",
        "for i in data:\n",
        "  count += 1\n",
        "print(count)"
      ],
      "metadata": {
        "colab": {
          "base_uri": "https://localhost:8080/"
        },
        "id": "kS83w_YRAr-O",
        "outputId": "8ea52f16-5dad-4043-9330-88e81aac7192"
      },
      "execution_count": 23,
      "outputs": [
        {
          "output_type": "stream",
          "name": "stdout",
          "text": [
            "9\n"
          ]
        }
      ]
    },
    {
      "cell_type": "code",
      "source": [
        "# calculate sum of list element\n",
        "sum = 0\n",
        "for j in data:\n",
        " sum = sum + j\n",
        "print(sum)"
      ],
      "metadata": {
        "colab": {
          "base_uri": "https://localhost:8080/"
        },
        "id": "rfgND1L2A9Ox",
        "outputId": "9a36439f-6c13-4704-8967-377ed84748b5"
      },
      "execution_count": 27,
      "outputs": [
        {
          "output_type": "stream",
          "name": "stdout",
          "text": [
            "52\n"
          ]
        }
      ]
    },
    {
      "cell_type": "markdown",
      "source": [
        "## Mean\n",
        "$\\bar{x} = \\frac{1}{n} \\sum_{i=1}^{n} x_i$"
      ],
      "metadata": {
        "id": "Tz1kY07P3TvJ"
      }
    },
    {
      "cell_type": "code",
      "source": [
        "# calculate mean\n",
        "mean = sum / count"
      ],
      "metadata": {
        "id": "BhI-K9n0BgeR"
      },
      "execution_count": 28,
      "outputs": []
    },
    {
      "cell_type": "code",
      "source": [
        "\n",
        "# display mean\n",
        "print(\"Mean of data\", data, \" is =\", mean)"
      ],
      "metadata": {
        "colab": {
          "base_uri": "https://localhost:8080/"
        },
        "id": "IEQPpqEX3MBC",
        "outputId": "5fd0c46c-0046-4fda-fdd7-7cef1963a593"
      },
      "execution_count": 36,
      "outputs": [
        {
          "output_type": "stream",
          "name": "stdout",
          "text": [
            "Mean of data [2, 4, 4, 5, 5, 7, 8, 8, 9]  is = 5.777777777777778\n"
          ]
        }
      ]
    }
  ]
}
