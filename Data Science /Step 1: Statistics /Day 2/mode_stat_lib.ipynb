{
  "nbformat": 4,
  "nbformat_minor": 0,
  "metadata": {
    "colab": {
      "provenance": [],
      "authorship_tag": "ABX9TyPW7tHqA/TRh3EXGhcTtQOc",
      "include_colab_link": true
    },
    "kernelspec": {
      "name": "python3",
      "display_name": "Python 3"
    },
    "language_info": {
      "name": "python"
    }
  },
  "cells": [
    {
      "cell_type": "markdown",
      "metadata": {
        "id": "view-in-github",
        "colab_type": "text"
      },
      "source": [
        "<a href=\"https://colab.research.google.com/github/muhbasit/E/blob/main/mode_stat_lib.ipynb\" target=\"_parent\"><img src=\"https://colab.research.google.com/assets/colab-badge.svg\" alt=\"Open In Colab\"/></a>"
      ]
    },
    {
      "cell_type": "code",
      "source": [
        "#import library\n",
        "import statistics as st"
      ],
      "metadata": {
        "id": "qgaNPvGn1dgR"
      },
      "execution_count": 10,
      "outputs": []
    },
    {
      "cell_type": "code",
      "execution_count": 11,
      "metadata": {
        "id": "Jm86b5rH0lUz"
      },
      "outputs": [],
      "source": [
        "# get data set\n",
        "data = [2,2,2,3,3,3,4,4,4,4,5,3,4,4]"
      ]
    },
    {
      "cell_type": "code",
      "source": [
        "#calculate mode\n",
        "mode = st.mode(data)"
      ],
      "metadata": {
        "id": "jQbn4Hrx05jS"
      },
      "execution_count": 12,
      "outputs": []
    },
    {
      "cell_type": "code",
      "source": [
        "# display mode\n",
        "print(mode)"
      ],
      "metadata": {
        "colab": {
          "base_uri": "https://localhost:8080/"
        },
        "id": "FNiCcflM1km0",
        "outputId": "ebb317bf-23fd-4dac-b741-db56503bd7b3"
      },
      "execution_count": 13,
      "outputs": [
        {
          "output_type": "stream",
          "name": "stdout",
          "text": [
            "4\n"
          ]
        }
      ]
    }
  ]
}
