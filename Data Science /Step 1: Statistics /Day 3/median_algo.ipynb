{
  "nbformat": 4,
  "nbformat_minor": 0,
  "metadata": {
    "colab": {
      "provenance": [],
      "authorship_tag": "ABX9TyM4T/oX1vZAozPw1LMaKWRa",
      "include_colab_link": true
    },
    "kernelspec": {
      "name": "python3",
      "display_name": "Python 3"
    },
    "language_info": {
      "name": "python"
    }
  },
  "cells": [
    {
      "cell_type": "markdown",
      "metadata": {
        "id": "view-in-github",
        "colab_type": "text"
      },
      "source": [
        "<a href=\"https://colab.research.google.com/github/muhbasit/E/blob/main/median_algo.ipynb\" target=\"_parent\"><img src=\"https://colab.research.google.com/assets/colab-badge.svg\" alt=\"Open In Colab\"/></a>"
      ]
    },
    {
      "cell_type": "markdown",
      "source": [
        "# Median\n",
        "In statistics and probability theory, the median is the value separating the higher half from the lower half of a data sample, a population, or a probability distribution. For a data set, it may be thought of as \"the middle\" value. The basic feature of the median in describing data compared to the mean (often simply described as the \"average\") is that it is not skewed by a small proportion of extremely large or small values, and therefore provides a better representation of the center. Median income, for example, may be a better way to describe center of the income distribution because increases in the largest incomes alone have no effect on median."
      ],
      "metadata": {
        "id": "g3Le8BiDR8vH"
      }
    },
    {
      "cell_type": "markdown",
      "source": [
        "For this reason, the median is of central importance in robust statistics.\n",
        "$$\n",
        "\\begin{aligned}\n",
        "& \\text { 1, 3, 3, 6, 7, 8, } 9 \\\\\n",
        "& \\text { Median }=\\underline{\\underline{6}} \\\\\n",
        "& 1,2,3, \\mathbf{4}, \\mathbf{5}, 6,8,9 \\\\\n",
        "& \\text { Median }=(4+5) \\div 2 \\\\\n",
        "& =\\underline{\\underline{4.5}} \\\\\n",
        "&\n",
        "\\end{aligned}\n",
        "$$\n",
        "Finding the median in sets of data with an odd and even number of values"
      ],
      "metadata": {
        "id": "xQyGpIPrSDkg"
      }
    },
    {
      "cell_type": "markdown",
      "source": [
        "In general, with this convention, the median can be defined as follows: For a data set $x$ of $n$ elements, ordered from smallest to greatest,\n",
        "if $n$ is odd, median $(x)=x_{(n+1) / 2}$ if $n$ is even,\n",
        "$$\n",
        "\\operatorname{median}(x)=\\frac{x_{(n / 2)}+x_{((n / 2)+1)}}{2}\n",
        "$$"
      ],
      "metadata": {
        "id": "CoSOwMK9TEZS"
      }
    },
    {
      "cell_type": "code",
      "execution_count": 24,
      "metadata": {
        "id": "oJFIX40UR0yz"
      },
      "outputs": [],
      "source": [
        "# collect data\n",
        "data = [2,4,4,5,5,7,8,8,9,5,4,3]"
      ]
    },
    {
      "cell_type": "code",
      "source": [
        "# sort data in ascending order\n",
        "for i in range(len(data)-1):\n",
        "  for j in range(len(data)-i-1):\n",
        "    if data[j] > data[j+1]:\n",
        "      temp = data[j]\n",
        "      data[j] = data[j+1]\n",
        "      data[j+1] = temp\n",
        "print(data)"
      ],
      "metadata": {
        "colab": {
          "base_uri": "https://localhost:8080/"
        },
        "id": "bHq2x3b2TPxc",
        "outputId": "c240f4a7-b718-421f-9be9-d10b03a0261e"
      },
      "execution_count": 25,
      "outputs": [
        {
          "output_type": "stream",
          "name": "stdout",
          "text": [
            "[2, 3, 4, 4, 4, 5, 5, 5, 7, 8, 8, 9]\n"
          ]
        }
      ]
    },
    {
      "cell_type": "code",
      "source": [
        "# count number of elements\n",
        "count = 0\n",
        "for i in data:\n",
        "  count += 1\n",
        "print(count)"
      ],
      "metadata": {
        "colab": {
          "base_uri": "https://localhost:8080/"
        },
        "id": "3-uIwcBSUpmp",
        "outputId": "31d3409d-375e-4850-ccf7-2f4222c78ea3"
      },
      "execution_count": 26,
      "outputs": [
        {
          "output_type": "stream",
          "name": "stdout",
          "text": [
            "12\n"
          ]
        }
      ]
    },
    {
      "cell_type": "markdown",
      "source": [
        "For a data set $x$ of $n$ elements, ordered from smallest to greatest,\n",
        "\n",
        "if $n$ is odd, \\\\\n",
        "median $(x)=x_{(n+1) / 2}$\n",
        "\n",
        "if $n$ is even,\n",
        "\n",
        "median $(x)=\\frac{x_{(n / 2)}+x_{((n / 2)+1)}}{2}\n",
        "$"
      ],
      "metadata": {
        "id": "A8PsvMO-YOOK"
      }
    },
    {
      "cell_type": "code",
      "source": [
        "if count%2 == 0:\n",
        "  n1 = count/2\n",
        "  n2 = (count/2) + 1\n",
        "  median = (data[int(n1)] + data[int(n2)])/2\n",
        "else:\n",
        "  median = data[int((count)/2)]"
      ],
      "metadata": {
        "id": "PwaM8wp6VFjD"
      },
      "execution_count": 29,
      "outputs": []
    },
    {
      "cell_type": "code",
      "source": [
        "print(median)"
      ],
      "metadata": {
        "colab": {
          "base_uri": "https://localhost:8080/"
        },
        "id": "T93zDsw3WLtG",
        "outputId": "81f9d959-f7d7-45d0-bdf2-6908dafe67ab"
      },
      "execution_count": 28,
      "outputs": [
        {
          "output_type": "stream",
          "name": "stdout",
          "text": [
            "5.0\n"
          ]
        }
      ]
    }
  ]
}
