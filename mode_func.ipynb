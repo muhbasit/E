{
  "nbformat": 4,
  "nbformat_minor": 0,
  "metadata": {
    "colab": {
      "provenance": [],
      "authorship_tag": "ABX9TyMXvGuxQPKHR9D6wrXI94K7",
      "include_colab_link": true
    },
    "kernelspec": {
      "name": "python3",
      "display_name": "Python 3"
    },
    "language_info": {
      "name": "python"
    }
  },
  "cells": [
    {
      "cell_type": "markdown",
      "metadata": {
        "id": "view-in-github",
        "colab_type": "text"
      },
      "source": [
        "<a href=\"https://colab.research.google.com/github/muhbasit/E/blob/main/mode_func.ipynb\" target=\"_parent\"><img src=\"https://colab.research.google.com/assets/colab-badge.svg\" alt=\"Open In Colab\"/></a>"
      ]
    },
    {
      "cell_type": "code",
      "execution_count": 1,
      "metadata": {
        "id": "w9hHKlMaG0OB"
      },
      "outputs": [],
      "source": [
        "# creating a list\n",
        "data = [1, 2, 3, 4, 5, 6, 2, 3, 4, 5, 5, 5, 5]"
      ]
    },
    {
      "cell_type": "code",
      "source": [
        "# create user defined function\n",
        "def mode(list):\n",
        "   # creating a dictionary\n",
        "    freq = {}\n",
        "    for i in list:\n",
        "        # mapping each value of list to a\n",
        "        # dictionary\n",
        "        freq.setdefault(i, 0)\n",
        "        freq[i] += 1\n",
        "\n",
        "    # finding maximum value of dictionary\n",
        "    hd = max(freq.values())\n",
        "\n",
        "    # creating an empty list\n",
        "    eList = []\n",
        "\n",
        "    # using for loop we are checking for most\n",
        "    # repeated value\n",
        "    for i, j in freq.items():\n",
        "        if j == hd:\n",
        "            eList.append(i)\n",
        "\n",
        "    # returning the result\n",
        "    return eList"
      ],
      "metadata": {
        "id": "-5n0Ym1yG8kP"
      },
      "execution_count": 7,
      "outputs": []
    },
    {
      "cell_type": "code",
      "source": [
        "mode = mode(data)"
      ],
      "metadata": {
        "id": "8uqkr4rnHbF-"
      },
      "execution_count": 5,
      "outputs": []
    },
    {
      "cell_type": "code",
      "source": [
        "print(mode)"
      ],
      "metadata": {
        "colab": {
          "base_uri": "https://localhost:8080/"
        },
        "id": "DCWwGGFXHf8k",
        "outputId": "99c12b0d-cc8f-4aa4-82e6-2fdf0de5022c"
      },
      "execution_count": 6,
      "outputs": [
        {
          "output_type": "stream",
          "name": "stdout",
          "text": [
            "[5]\n"
          ]
        }
      ]
    }
  ]
}