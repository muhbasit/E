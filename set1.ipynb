{
  "nbformat": 4,
  "nbformat_minor": 0,
  "metadata": {
    "colab": {
      "provenance": [],
      "authorship_tag": "ABX9TyNeBgAqzPHUKYScbtOIQqdy",
      "include_colab_link": true
    },
    "kernelspec": {
      "name": "python3",
      "display_name": "Python 3"
    },
    "language_info": {
      "name": "python"
    }
  },
  "cells": [
    {
      "cell_type": "markdown",
      "metadata": {
        "id": "view-in-github",
        "colab_type": "text"
      },
      "source": [
        "<a href=\"https://colab.research.google.com/github/muhbasit/E/blob/main/set1.ipynb\" target=\"_parent\"><img src=\"https://colab.research.google.com/assets/colab-badge.svg\" alt=\"Open In Colab\"/></a>"
      ]
    },
    {
      "cell_type": "code",
      "execution_count": 1,
      "metadata": {
        "colab": {
          "base_uri": "https://localhost:8080/"
        },
        "id": "DFxcUvk0AaEL",
        "outputId": "7f5a3011-80b5-43d1-ae69-c31f566da543"
      },
      "outputs": [
        {
          "output_type": "stream",
          "name": "stdout",
          "text": [
            "Common words: set()\n"
          ]
        }
      ],
      "source": [
        "def find_common_words(doc1, doc2):\n",
        "    # Split the documents into words and convert them to sets\n",
        "    words_set_doc1 = set(doc1.split())\n",
        "    words_set_doc2 = set(doc2.split())\n",
        "\n",
        "    # Find the common words using set intersection\n",
        "    common_words = words_set_doc1.intersection(words_set_doc2)\n",
        "\n",
        "    return common_words\n",
        "\n",
        "# Example documents\n",
        "document1 = \"Machine learning is fascinating and challenging.\"\n",
        "document2 = \"Fascinating challenges await in the field of machine learning.\"\n",
        "\n",
        "# Find common words\n",
        "common_words = find_common_words(document1, document2)\n",
        "\n",
        "print(\"Common words:\", common_words)"
      ]
    },
    {
      "cell_type": "code",
      "source": [
        "set1 = {1, 2, 3, 4}\n",
        "set2 = {3, 4, 5, 6}\n",
        "\n",
        "# Union\n",
        "union_result = set1 | set2\n",
        "print(\"Union:\", union_result)  # Output: {1, 2, 3, 4, 5, 6}\n",
        "\n",
        "# Intersection\n",
        "intersection_result = set1 & set2\n",
        "print(\"Intersection:\", intersection_result)  # Output: {3, 4}\n",
        "\n",
        "# Difference\n",
        "difference_result = set1 - set2\n",
        "print(\"Difference (set1 - set2):\", difference_result)  # Output: {1, 2}\n",
        "\n",
        "difference_result = set2 - set1\n",
        "print(\"Difference (set2 - set1):\", difference_result)  # Output: {5, 6}\n",
        "\n",
        "# Symmetric Difference (elements in either set, but not in both)\n",
        "symmetric_difference_result = set1 ^ set2\n",
        "print(\"Symmetric Difference:\", symmetric_difference_result)  # Output: {1, 2, 5, 6}\n",
        "\n",
        "# Subset and Superset\n",
        "is_subset = set1 <= set2\n",
        "print(\"set1 is subset of set2:\", is_subset)  # Output: False\n",
        "\n",
        "is_superset = set1 >= set2\n",
        "print(\"set1 is superset of set2:\", is_superset)  # Output: False"
      ],
      "metadata": {
        "colab": {
          "base_uri": "https://localhost:8080/"
        },
        "id": "Kwah7X9ROctS",
        "outputId": "84021f34-4fab-4468-ced9-1a049091c74a"
      },
      "execution_count": 2,
      "outputs": [
        {
          "output_type": "stream",
          "name": "stdout",
          "text": [
            "Union: {1, 2, 3, 4, 5, 6}\n",
            "Intersection: {3, 4}\n",
            "Difference (set1 - set2): {1, 2}\n",
            "Difference (set2 - set1): {5, 6}\n",
            "Symmetric Difference: {1, 2, 5, 6}\n",
            "set1 is subset of set2: False\n",
            "set1 is superset of set2: False\n"
          ]
        }
      ]
    },
    {
      "cell_type": "code",
      "source": [
        "# Create a set of squares using set comprehension\n",
        "squares = {x**2 for x in range(1, 6)}\n",
        "print(\"Squares set:\", squares)"
      ],
      "metadata": {
        "id": "H9EvyyRrOvPN"
      },
      "execution_count": null,
      "outputs": []
    },
    {
      "cell_type": "code",
      "source": [
        "set1 = {1, 2, 3, 4}\n",
        "set2 = {3, 4, 5, 6}\n",
        "set3 = {4, 5, 6, 7}\n",
        "\n",
        "# Union of three sets\n",
        "union_result = set1 | set2 | set3\n",
        "\n",
        "# Intersection of three sets\n",
        "intersection_result = set1 & set2 & set3"
      ],
      "metadata": {
        "id": "xobaITOrOwyK"
      },
      "execution_count": 3,
      "outputs": []
    },
    {
      "cell_type": "code",
      "source": [
        "fruits = {\"apple\", \"banana\", \"cherry\"}\n",
        "print(\"apple\" in fruits)  # Output: True\n",
        "\n",
        "# Disjoint sets (no common elements)\n",
        "vegetables = {\"carrot\", \"spinach\"}\n",
        "is_disjoint = fruits.isdisjoint(vegetables)\n",
        "print(\"Are fruits and vegetables disjoint?\", is_disjoint)  # Output: True"
      ],
      "metadata": {
        "colab": {
          "base_uri": "https://localhost:8080/"
        },
        "id": "4eSwIuPXOx_O",
        "outputId": "41dbea56-eb62-4461-e26c-b5ae02816b3a"
      },
      "execution_count": 4,
      "outputs": [
        {
          "output_type": "stream",
          "name": "stdout",
          "text": [
            "True\n",
            "Are fruits and vegetables disjoint? True\n"
          ]
        }
      ]
    },
    {
      "cell_type": "code",
      "source": [
        "set1 = {1, 2, 3}\n",
        "set2 = {3, 4, 5}\n",
        "\n",
        "set1.update(set2)  # Union and update set1\n",
        "set1.intersection_update(set2)  # Intersection and update set1\n",
        "set1.difference_update(set2)  # Difference and update set1\n",
        "set1.symmetric_difference_update(set2)  # Symmetric difference and update set1"
      ],
      "metadata": {
        "id": "DbGTvnWJOy_e"
      },
      "execution_count": 5,
      "outputs": []
    },
    {
      "cell_type": "code",
      "source": [
        "# Set algebra (set identities and laws)\n",
        "set_identity_law1 = set1 & set2 == set2 & set1  # Commutative law\n",
        "set_identity_law2 = set1 | (set2 & set3) == (set1 | set2) & (set1 | set3)  # Distributive law\n",
        "\n",
        "# Set cardinality\n",
        "cardinality = len(fruits)"
      ],
      "metadata": {
        "id": "NGsTmvOyO0Gn"
      },
      "execution_count": 7,
      "outputs": []
    }
  ]
}