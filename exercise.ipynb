{
  "nbformat": 4,
  "nbformat_minor": 0,
  "metadata": {
    "colab": {
      "provenance": [],
      "authorship_tag": "ABX9TyOL/9bNeZ8MBaqk9P7iIKYs",
      "include_colab_link": true
    },
    "kernelspec": {
      "name": "python3",
      "display_name": "Python 3"
    },
    "language_info": {
      "name": "python"
    }
  },
  "cells": [
    {
      "cell_type": "markdown",
      "metadata": {
        "id": "view-in-github",
        "colab_type": "text"
      },
      "source": [
        "<a href=\"https://colab.research.google.com/github/muhbasit/E/blob/main/exercise.ipynb\" target=\"_parent\"><img src=\"https://colab.research.google.com/assets/colab-badge.svg\" alt=\"Open In Colab\"/></a>"
      ]
    },
    {
      "cell_type": "markdown",
      "source": [
        "Take two inputs from user and check whether they are equal or not."
      ],
      "metadata": {
        "id": "P_c3r64kmNk4"
      }
    },
    {
      "cell_type": "code",
      "execution_count": null,
      "metadata": {
        "colab": {
          "base_uri": "https://localhost:8080/"
        },
        "id": "fSUknJ5bmLsp",
        "outputId": "7ec4d58d-5cd9-4ba0-d807-d14c6f4bea71"
      },
      "outputs": [
        {
          "output_type": "stream",
          "name": "stdout",
          "text": [
            "Enter first number\n",
            "23\n",
            "Enter second number\n",
            "22\n",
            "Statement is  False\n"
          ]
        }
      ],
      "source": [
        "print(\"Enter first number\")\n",
        "first = input()\n",
        "print(\"Enter second number\")\n",
        "second = input()\n",
        "\n",
        "t = True\n",
        "\n",
        "if first == second:\n",
        "  print(\"Statement is \", t)\n",
        "else:\n",
        "  print(\"Statement is \", not(t))"
      ]
    },
    {
      "cell_type": "markdown",
      "source": [
        "Take 3 inputs from user and check :\n",
        "all are equal\n",
        "any of two are equal\n",
        "( use and or )"
      ],
      "metadata": {
        "id": "aAJqIYmGnRHZ"
      }
    },
    {
      "cell_type": "code",
      "source": [
        "print(\"first number\")\n",
        "first = input()\n",
        "print(\"second number\")\n",
        "second = input()\n",
        "print(\"third number\")\n",
        "third = input()\n",
        "\n",
        "all = first == second and second == third and third == first\n",
        "print(\"All are equal:\",all)\n",
        "\n",
        "any = first == second or second == third or third == first\n",
        "print(\"Any of two are equal:\",any)"
      ],
      "metadata": {
        "colab": {
          "base_uri": "https://localhost:8080/"
        },
        "id": "A5W54_kKnX5S",
        "outputId": "4da6aec3-45b1-4dde-afde-45acd9967bcd"
      },
      "execution_count": null,
      "outputs": [
        {
          "output_type": "stream",
          "name": "stdout",
          "text": [
            "first number\n",
            "23\n",
            "second number\n",
            "45\n",
            "third number\n",
            "23\n",
            "All are equal: False\n",
            "Any of two are equal: True\n"
          ]
        }
      ]
    },
    {
      "cell_type": "markdown",
      "source": [
        "Take two number and check whether the sum is greater than 5, less than 5 or equal to 5."
      ],
      "metadata": {
        "id": "pu-lF-C_nw6t"
      }
    },
    {
      "cell_type": "code",
      "source": [
        "print(\"Enter first number\")\n",
        "first = input()\n",
        "print(\"Enter second number\")\n",
        "second = input()\n",
        "\n",
        "sum = first + second\n",
        "sum = int(sum)\n",
        "if sum > 5:\n",
        "  print(\"Sum is greater than 5:\")\n",
        "elif sum == 5:\n",
        "  print(\"Sum is equal to 5:\")\n",
        "else:\n",
        "  print(\"Sum is lesser than 5:\")"
      ],
      "metadata": {
        "colab": {
          "base_uri": "https://localhost:8080/"
        },
        "id": "gvXPsTLinvfQ",
        "outputId": "630d7269-5f25-4eab-bf32-cb711cd8e820"
      },
      "execution_count": null,
      "outputs": [
        {
          "output_type": "stream",
          "name": "stdout",
          "text": [
            "Enter first number\n",
            "23\n",
            "Enter second number\n",
            "1\n",
            "Sum is greater than 5:\n"
          ]
        }
      ]
    }
  ]
}